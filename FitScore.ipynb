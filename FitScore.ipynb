{
  "nbformat": 4,
  "nbformat_minor": 0,
  "metadata": {
    "colab": {
      "provenance": [],
      "gpuType": "T4",
      "include_colab_link": true
    },
    "kernelspec": {
      "name": "python3",
      "display_name": "Python 3"
    },
    "language_info": {
      "name": "python"
    },
    "accelerator": "GPU"
  },
  "cells": [
    {
      "cell_type": "markdown",
      "metadata": {
        "id": "view-in-github",
        "colab_type": "text"
      },
      "source": [
        "<a href=\"https://colab.research.google.com/github/Sagar9719/Spam_Bytes_FitScore/blob/main/FitScore.ipynb\" target=\"_parent\"><img src=\"https://colab.research.google.com/assets/colab-badge.svg\" alt=\"Open In Colab\"/></a>"
      ]
    },
    {
      "cell_type": "markdown",
      "source": [
        "#**Titan Hackathon** Code of team (**SpamBytes**)"
      ],
      "metadata": {
        "id": "gd-SoA-bxi3j"
      }
    },
    {
      "cell_type": "markdown",
      "source": [
        "###Code for *Data Cleaning*\n"
      ],
      "metadata": {
        "id": "mIu0htrxuhG_"
      }
    },
    {
      "cell_type": "code",
      "execution_count": null,
      "metadata": {
        "id": "vJcVQAXbG_Mz"
      },
      "outputs": [],
      "source": [
        "import pandas as pd"
      ]
    },
    {
      "cell_type": "code",
      "source": [
        "import numpy as np"
      ],
      "metadata": {
        "id": "piQhpuq8JITV"
      },
      "execution_count": null,
      "outputs": []
    },
    {
      "cell_type": "markdown",
      "source": [
        "####Upload Dataset from files"
      ],
      "metadata": {
        "id": "UwMa4r2kuvSz"
      }
    },
    {
      "cell_type": "code",
      "source": [
        "from google.colab import files\n",
        "uploaded = files.upload()"
      ],
      "metadata": {
        "colab": {
          "base_uri": "https://localhost:8080/",
          "height": 73
        },
        "id": "foCS0cNgNbw5",
        "outputId": "ecf547dd-f664-4974-ebec-bb9d535b311d"
      },
      "execution_count": null,
      "outputs": [
        {
          "output_type": "display_data",
          "data": {
            "text/plain": [
              "<IPython.core.display.HTML object>"
            ],
            "text/html": [
              "\n",
              "     <input type=\"file\" id=\"files-3ab8f967-1b3c-4380-815c-e05dc169f458\" name=\"files[]\" multiple disabled\n",
              "        style=\"border:none\" />\n",
              "     <output id=\"result-3ab8f967-1b3c-4380-815c-e05dc169f458\">\n",
              "      Upload widget is only available when the cell has been executed in the\n",
              "      current browser session. Please rerun this cell to enable.\n",
              "      </output>\n",
              "      <script>// Copyright 2017 Google LLC\n",
              "//\n",
              "// Licensed under the Apache License, Version 2.0 (the \"License\");\n",
              "// you may not use this file except in compliance with the License.\n",
              "// You may obtain a copy of the License at\n",
              "//\n",
              "//      http://www.apache.org/licenses/LICENSE-2.0\n",
              "//\n",
              "// Unless required by applicable law or agreed to in writing, software\n",
              "// distributed under the License is distributed on an \"AS IS\" BASIS,\n",
              "// WITHOUT WARRANTIES OR CONDITIONS OF ANY KIND, either express or implied.\n",
              "// See the License for the specific language governing permissions and\n",
              "// limitations under the License.\n",
              "\n",
              "/**\n",
              " * @fileoverview Helpers for google.colab Python module.\n",
              " */\n",
              "(function(scope) {\n",
              "function span(text, styleAttributes = {}) {\n",
              "  const element = document.createElement('span');\n",
              "  element.textContent = text;\n",
              "  for (const key of Object.keys(styleAttributes)) {\n",
              "    element.style[key] = styleAttributes[key];\n",
              "  }\n",
              "  return element;\n",
              "}\n",
              "\n",
              "// Max number of bytes which will be uploaded at a time.\n",
              "const MAX_PAYLOAD_SIZE = 100 * 1024;\n",
              "\n",
              "function _uploadFiles(inputId, outputId) {\n",
              "  const steps = uploadFilesStep(inputId, outputId);\n",
              "  const outputElement = document.getElementById(outputId);\n",
              "  // Cache steps on the outputElement to make it available for the next call\n",
              "  // to uploadFilesContinue from Python.\n",
              "  outputElement.steps = steps;\n",
              "\n",
              "  return _uploadFilesContinue(outputId);\n",
              "}\n",
              "\n",
              "// This is roughly an async generator (not supported in the browser yet),\n",
              "// where there are multiple asynchronous steps and the Python side is going\n",
              "// to poll for completion of each step.\n",
              "// This uses a Promise to block the python side on completion of each step,\n",
              "// then passes the result of the previous step as the input to the next step.\n",
              "function _uploadFilesContinue(outputId) {\n",
              "  const outputElement = document.getElementById(outputId);\n",
              "  const steps = outputElement.steps;\n",
              "\n",
              "  const next = steps.next(outputElement.lastPromiseValue);\n",
              "  return Promise.resolve(next.value.promise).then((value) => {\n",
              "    // Cache the last promise value to make it available to the next\n",
              "    // step of the generator.\n",
              "    outputElement.lastPromiseValue = value;\n",
              "    return next.value.response;\n",
              "  });\n",
              "}\n",
              "\n",
              "/**\n",
              " * Generator function which is called between each async step of the upload\n",
              " * process.\n",
              " * @param {string} inputId Element ID of the input file picker element.\n",
              " * @param {string} outputId Element ID of the output display.\n",
              " * @return {!Iterable<!Object>} Iterable of next steps.\n",
              " */\n",
              "function* uploadFilesStep(inputId, outputId) {\n",
              "  const inputElement = document.getElementById(inputId);\n",
              "  inputElement.disabled = false;\n",
              "\n",
              "  const outputElement = document.getElementById(outputId);\n",
              "  outputElement.innerHTML = '';\n",
              "\n",
              "  const pickedPromise = new Promise((resolve) => {\n",
              "    inputElement.addEventListener('change', (e) => {\n",
              "      resolve(e.target.files);\n",
              "    });\n",
              "  });\n",
              "\n",
              "  const cancel = document.createElement('button');\n",
              "  inputElement.parentElement.appendChild(cancel);\n",
              "  cancel.textContent = 'Cancel upload';\n",
              "  const cancelPromise = new Promise((resolve) => {\n",
              "    cancel.onclick = () => {\n",
              "      resolve(null);\n",
              "    };\n",
              "  });\n",
              "\n",
              "  // Wait for the user to pick the files.\n",
              "  const files = yield {\n",
              "    promise: Promise.race([pickedPromise, cancelPromise]),\n",
              "    response: {\n",
              "      action: 'starting',\n",
              "    }\n",
              "  };\n",
              "\n",
              "  cancel.remove();\n",
              "\n",
              "  // Disable the input element since further picks are not allowed.\n",
              "  inputElement.disabled = true;\n",
              "\n",
              "  if (!files) {\n",
              "    return {\n",
              "      response: {\n",
              "        action: 'complete',\n",
              "      }\n",
              "    };\n",
              "  }\n",
              "\n",
              "  for (const file of files) {\n",
              "    const li = document.createElement('li');\n",
              "    li.append(span(file.name, {fontWeight: 'bold'}));\n",
              "    li.append(span(\n",
              "        `(${file.type || 'n/a'}) - ${file.size} bytes, ` +\n",
              "        `last modified: ${\n",
              "            file.lastModifiedDate ? file.lastModifiedDate.toLocaleDateString() :\n",
              "                                    'n/a'} - `));\n",
              "    const percent = span('0% done');\n",
              "    li.appendChild(percent);\n",
              "\n",
              "    outputElement.appendChild(li);\n",
              "\n",
              "    const fileDataPromise = new Promise((resolve) => {\n",
              "      const reader = new FileReader();\n",
              "      reader.onload = (e) => {\n",
              "        resolve(e.target.result);\n",
              "      };\n",
              "      reader.readAsArrayBuffer(file);\n",
              "    });\n",
              "    // Wait for the data to be ready.\n",
              "    let fileData = yield {\n",
              "      promise: fileDataPromise,\n",
              "      response: {\n",
              "        action: 'continue',\n",
              "      }\n",
              "    };\n",
              "\n",
              "    // Use a chunked sending to avoid message size limits. See b/62115660.\n",
              "    let position = 0;\n",
              "    do {\n",
              "      const length = Math.min(fileData.byteLength - position, MAX_PAYLOAD_SIZE);\n",
              "      const chunk = new Uint8Array(fileData, position, length);\n",
              "      position += length;\n",
              "\n",
              "      const base64 = btoa(String.fromCharCode.apply(null, chunk));\n",
              "      yield {\n",
              "        response: {\n",
              "          action: 'append',\n",
              "          file: file.name,\n",
              "          data: base64,\n",
              "        },\n",
              "      };\n",
              "\n",
              "      let percentDone = fileData.byteLength === 0 ?\n",
              "          100 :\n",
              "          Math.round((position / fileData.byteLength) * 100);\n",
              "      percent.textContent = `${percentDone}% done`;\n",
              "\n",
              "    } while (position < fileData.byteLength);\n",
              "  }\n",
              "\n",
              "  // All done.\n",
              "  yield {\n",
              "    response: {\n",
              "      action: 'complete',\n",
              "    }\n",
              "  };\n",
              "}\n",
              "\n",
              "scope.google = scope.google || {};\n",
              "scope.google.colab = scope.google.colab || {};\n",
              "scope.google.colab._files = {\n",
              "  _uploadFiles,\n",
              "  _uploadFilesContinue,\n",
              "};\n",
              "})(self);\n",
              "</script> "
            ]
          },
          "metadata": {}
        },
        {
          "output_type": "stream",
          "name": "stdout",
          "text": [
            "Saving person1.csv to person1.csv\n"
          ]
        }
      ]
    },
    {
      "cell_type": "markdown",
      "source": [
        "### Dataset display"
      ],
      "metadata": {
        "id": "BruGWpMcu6Tg"
      }
    },
    {
      "cell_type": "code",
      "source": [
        "data = pd.read_csv(\"person1.csv\")\n",
        "data.head(5)"
      ],
      "metadata": {
        "id": "Uu3-ZI4fHVOl",
        "colab": {
          "base_uri": "https://localhost:8080/",
          "height": 270
        },
        "outputId": "3797565c-eda5-4125-d876-e8e3197c9189"
      },
      "execution_count": null,
      "outputs": [
        {
          "output_type": "execute_result",
          "data": {
            "text/plain": [
              "   Weight  Height  Systole  Diastole  HeartRate  BodyTemperature  BloodSugar  \\\n",
              "0    70.2    1.75      120        80         75             36.5          90   \n",
              "1    70.0    1.75      118        78         78             36.6          95   \n",
              "2    69.8    1.75      115        75         80             36.7         100   \n",
              "3    69.5    1.75      117        76         76             36.8          92   \n",
              "4    69.3    1.75      116        78         74             36.9          91   \n",
              "\n",
              "   SpO2  RespiratoryRate   BMI  Deviation  FitScore  \n",
              "0    98               16  22.9        NaN       NaN  \n",
              "1    99               18  22.9        NaN       NaN  \n",
              "2    97               17  22.8        NaN       NaN  \n",
              "3    98               17  22.7        NaN       NaN  \n",
              "4    97               18  22.6        NaN       NaN  "
            ],
            "text/html": [
              "\n",
              "\n",
              "  <div id=\"df-26b146df-f78c-4736-a7aa-ac6f098c4a2c\">\n",
              "    <div class=\"colab-df-container\">\n",
              "      <div>\n",
              "<style scoped>\n",
              "    .dataframe tbody tr th:only-of-type {\n",
              "        vertical-align: middle;\n",
              "    }\n",
              "\n",
              "    .dataframe tbody tr th {\n",
              "        vertical-align: top;\n",
              "    }\n",
              "\n",
              "    .dataframe thead th {\n",
              "        text-align: right;\n",
              "    }\n",
              "</style>\n",
              "<table border=\"1\" class=\"dataframe\">\n",
              "  <thead>\n",
              "    <tr style=\"text-align: right;\">\n",
              "      <th></th>\n",
              "      <th>Weight</th>\n",
              "      <th>Height</th>\n",
              "      <th>Systole</th>\n",
              "      <th>Diastole</th>\n",
              "      <th>HeartRate</th>\n",
              "      <th>BodyTemperature</th>\n",
              "      <th>BloodSugar</th>\n",
              "      <th>SpO2</th>\n",
              "      <th>RespiratoryRate</th>\n",
              "      <th>BMI</th>\n",
              "      <th>Deviation</th>\n",
              "      <th>FitScore</th>\n",
              "    </tr>\n",
              "  </thead>\n",
              "  <tbody>\n",
              "    <tr>\n",
              "      <th>0</th>\n",
              "      <td>70.2</td>\n",
              "      <td>1.75</td>\n",
              "      <td>120</td>\n",
              "      <td>80</td>\n",
              "      <td>75</td>\n",
              "      <td>36.5</td>\n",
              "      <td>90</td>\n",
              "      <td>98</td>\n",
              "      <td>16</td>\n",
              "      <td>22.9</td>\n",
              "      <td>NaN</td>\n",
              "      <td>NaN</td>\n",
              "    </tr>\n",
              "    <tr>\n",
              "      <th>1</th>\n",
              "      <td>70.0</td>\n",
              "      <td>1.75</td>\n",
              "      <td>118</td>\n",
              "      <td>78</td>\n",
              "      <td>78</td>\n",
              "      <td>36.6</td>\n",
              "      <td>95</td>\n",
              "      <td>99</td>\n",
              "      <td>18</td>\n",
              "      <td>22.9</td>\n",
              "      <td>NaN</td>\n",
              "      <td>NaN</td>\n",
              "    </tr>\n",
              "    <tr>\n",
              "      <th>2</th>\n",
              "      <td>69.8</td>\n",
              "      <td>1.75</td>\n",
              "      <td>115</td>\n",
              "      <td>75</td>\n",
              "      <td>80</td>\n",
              "      <td>36.7</td>\n",
              "      <td>100</td>\n",
              "      <td>97</td>\n",
              "      <td>17</td>\n",
              "      <td>22.8</td>\n",
              "      <td>NaN</td>\n",
              "      <td>NaN</td>\n",
              "    </tr>\n",
              "    <tr>\n",
              "      <th>3</th>\n",
              "      <td>69.5</td>\n",
              "      <td>1.75</td>\n",
              "      <td>117</td>\n",
              "      <td>76</td>\n",
              "      <td>76</td>\n",
              "      <td>36.8</td>\n",
              "      <td>92</td>\n",
              "      <td>98</td>\n",
              "      <td>17</td>\n",
              "      <td>22.7</td>\n",
              "      <td>NaN</td>\n",
              "      <td>NaN</td>\n",
              "    </tr>\n",
              "    <tr>\n",
              "      <th>4</th>\n",
              "      <td>69.3</td>\n",
              "      <td>1.75</td>\n",
              "      <td>116</td>\n",
              "      <td>78</td>\n",
              "      <td>74</td>\n",
              "      <td>36.9</td>\n",
              "      <td>91</td>\n",
              "      <td>97</td>\n",
              "      <td>18</td>\n",
              "      <td>22.6</td>\n",
              "      <td>NaN</td>\n",
              "      <td>NaN</td>\n",
              "    </tr>\n",
              "  </tbody>\n",
              "</table>\n",
              "</div>\n",
              "      <button class=\"colab-df-convert\" onclick=\"convertToInteractive('df-26b146df-f78c-4736-a7aa-ac6f098c4a2c')\"\n",
              "              title=\"Convert this dataframe to an interactive table.\"\n",
              "              style=\"display:none;\">\n",
              "\n",
              "  <svg xmlns=\"http://www.w3.org/2000/svg\" height=\"24px\"viewBox=\"0 0 24 24\"\n",
              "       width=\"24px\">\n",
              "    <path d=\"M0 0h24v24H0V0z\" fill=\"none\"/>\n",
              "    <path d=\"M18.56 5.44l.94 2.06.94-2.06 2.06-.94-2.06-.94-.94-2.06-.94 2.06-2.06.94zm-11 1L8.5 8.5l.94-2.06 2.06-.94-2.06-.94L8.5 2.5l-.94 2.06-2.06.94zm10 10l.94 2.06.94-2.06 2.06-.94-2.06-.94-.94-2.06-.94 2.06-2.06.94z\"/><path d=\"M17.41 7.96l-1.37-1.37c-.4-.4-.92-.59-1.43-.59-.52 0-1.04.2-1.43.59L10.3 9.45l-7.72 7.72c-.78.78-.78 2.05 0 2.83L4 21.41c.39.39.9.59 1.41.59.51 0 1.02-.2 1.41-.59l7.78-7.78 2.81-2.81c.8-.78.8-2.07 0-2.86zM5.41 20L4 18.59l7.72-7.72 1.47 1.35L5.41 20z\"/>\n",
              "  </svg>\n",
              "      </button>\n",
              "\n",
              "\n",
              "\n",
              "    <div id=\"df-65b73c57-dfa2-4db9-8517-1d30f197f4f6\">\n",
              "      <button class=\"colab-df-quickchart\" onclick=\"quickchart('df-65b73c57-dfa2-4db9-8517-1d30f197f4f6')\"\n",
              "              title=\"Suggest charts.\"\n",
              "              style=\"display:none;\">\n",
              "\n",
              "<svg xmlns=\"http://www.w3.org/2000/svg\" height=\"24px\"viewBox=\"0 0 24 24\"\n",
              "     width=\"24px\">\n",
              "    <g>\n",
              "        <path d=\"M19 3H5c-1.1 0-2 .9-2 2v14c0 1.1.9 2 2 2h14c1.1 0 2-.9 2-2V5c0-1.1-.9-2-2-2zM9 17H7v-7h2v7zm4 0h-2V7h2v10zm4 0h-2v-4h2v4z\"/>\n",
              "    </g>\n",
              "</svg>\n",
              "      </button>\n",
              "    </div>\n",
              "\n",
              "<style>\n",
              "  .colab-df-quickchart {\n",
              "    background-color: #E8F0FE;\n",
              "    border: none;\n",
              "    border-radius: 50%;\n",
              "    cursor: pointer;\n",
              "    display: none;\n",
              "    fill: #1967D2;\n",
              "    height: 32px;\n",
              "    padding: 0 0 0 0;\n",
              "    width: 32px;\n",
              "  }\n",
              "\n",
              "  .colab-df-quickchart:hover {\n",
              "    background-color: #E2EBFA;\n",
              "    box-shadow: 0px 1px 2px rgba(60, 64, 67, 0.3), 0px 1px 3px 1px rgba(60, 64, 67, 0.15);\n",
              "    fill: #174EA6;\n",
              "  }\n",
              "\n",
              "  [theme=dark] .colab-df-quickchart {\n",
              "    background-color: #3B4455;\n",
              "    fill: #D2E3FC;\n",
              "  }\n",
              "\n",
              "  [theme=dark] .colab-df-quickchart:hover {\n",
              "    background-color: #434B5C;\n",
              "    box-shadow: 0px 1px 3px 1px rgba(0, 0, 0, 0.15);\n",
              "    filter: drop-shadow(0px 1px 2px rgba(0, 0, 0, 0.3));\n",
              "    fill: #FFFFFF;\n",
              "  }\n",
              "</style>\n",
              "\n",
              "    <script>\n",
              "      async function quickchart(key) {\n",
              "        const containerElement = document.querySelector('#' + key);\n",
              "        const charts = await google.colab.kernel.invokeFunction(\n",
              "            'suggestCharts', [key], {});\n",
              "      }\n",
              "    </script>\n",
              "\n",
              "      <script>\n",
              "\n",
              "function displayQuickchartButton(domScope) {\n",
              "  let quickchartButtonEl =\n",
              "    domScope.querySelector('#df-65b73c57-dfa2-4db9-8517-1d30f197f4f6 button.colab-df-quickchart');\n",
              "  quickchartButtonEl.style.display =\n",
              "    google.colab.kernel.accessAllowed ? 'block' : 'none';\n",
              "}\n",
              "\n",
              "        displayQuickchartButton(document);\n",
              "      </script>\n",
              "      <style>\n",
              "    .colab-df-container {\n",
              "      display:flex;\n",
              "      flex-wrap:wrap;\n",
              "      gap: 12px;\n",
              "    }\n",
              "\n",
              "    .colab-df-convert {\n",
              "      background-color: #E8F0FE;\n",
              "      border: none;\n",
              "      border-radius: 50%;\n",
              "      cursor: pointer;\n",
              "      display: none;\n",
              "      fill: #1967D2;\n",
              "      height: 32px;\n",
              "      padding: 0 0 0 0;\n",
              "      width: 32px;\n",
              "    }\n",
              "\n",
              "    .colab-df-convert:hover {\n",
              "      background-color: #E2EBFA;\n",
              "      box-shadow: 0px 1px 2px rgba(60, 64, 67, 0.3), 0px 1px 3px 1px rgba(60, 64, 67, 0.15);\n",
              "      fill: #174EA6;\n",
              "    }\n",
              "\n",
              "    [theme=dark] .colab-df-convert {\n",
              "      background-color: #3B4455;\n",
              "      fill: #D2E3FC;\n",
              "    }\n",
              "\n",
              "    [theme=dark] .colab-df-convert:hover {\n",
              "      background-color: #434B5C;\n",
              "      box-shadow: 0px 1px 3px 1px rgba(0, 0, 0, 0.15);\n",
              "      filter: drop-shadow(0px 1px 2px rgba(0, 0, 0, 0.3));\n",
              "      fill: #FFFFFF;\n",
              "    }\n",
              "  </style>\n",
              "\n",
              "      <script>\n",
              "        const buttonEl =\n",
              "          document.querySelector('#df-26b146df-f78c-4736-a7aa-ac6f098c4a2c button.colab-df-convert');\n",
              "        buttonEl.style.display =\n",
              "          google.colab.kernel.accessAllowed ? 'block' : 'none';\n",
              "\n",
              "        async function convertToInteractive(key) {\n",
              "          const element = document.querySelector('#df-26b146df-f78c-4736-a7aa-ac6f098c4a2c');\n",
              "          const dataTable =\n",
              "            await google.colab.kernel.invokeFunction('convertToInteractive',\n",
              "                                                     [key], {});\n",
              "          if (!dataTable) return;\n",
              "\n",
              "          const docLinkHtml = 'Like what you see? Visit the ' +\n",
              "            '<a target=\"_blank\" href=https://colab.research.google.com/notebooks/data_table.ipynb>data table notebook</a>'\n",
              "            + ' to learn more about interactive tables.';\n",
              "          element.innerHTML = '';\n",
              "          dataTable['output_type'] = 'display_data';\n",
              "          await google.colab.output.renderOutput(dataTable, element);\n",
              "          const docLink = document.createElement('div');\n",
              "          docLink.innerHTML = docLinkHtml;\n",
              "          element.appendChild(docLink);\n",
              "        }\n",
              "      </script>\n",
              "    </div>\n",
              "  </div>\n"
            ]
          },
          "metadata": {},
          "execution_count": 7
        }
      ]
    },
    {
      "cell_type": "code",
      "source": [
        "df = data.copy()\n",
        "df"
      ],
      "metadata": {
        "colab": {
          "base_uri": "https://localhost:8080/",
          "height": 1000
        },
        "id": "4r0g7HPSbHE9",
        "outputId": "c7fbc376-0819-4a70-b5ac-83ad51b72a6f"
      },
      "execution_count": null,
      "outputs": [
        {
          "output_type": "execute_result",
          "data": {
            "text/plain": [
              "    Weight  Height  Systole  Diastole  HeartRate  BodyTemperature  BloodSugar  \\\n",
              "0     70.2    1.75      120        80         75             36.5          90   \n",
              "1     70.0    1.75      118        78         78             36.6          95   \n",
              "2     69.8    1.75      115        75         80             36.7         100   \n",
              "3     69.5    1.75      117        76         76             36.8          92   \n",
              "4     69.3    1.75      116        78         74             36.9          91   \n",
              "5     69.0    1.75      119        77         75             36.7          93   \n",
              "6     69.2    1.75      121        79         73             36.6          90   \n",
              "7     69.1    1.75      119        78         74             36.5          88   \n",
              "8     68.8    1.75      118        76         75             36.4          85   \n",
              "9     68.5    1.75      120        78         73             36.5          87   \n",
              "10    68.3    1.75      119        75         72             36.6          89   \n",
              "11    68.0    1.75      122        79         74             36.7          90   \n",
              "12    68.2    1.75      120        76         75             36.6          91   \n",
              "13    68.1    1.75      121        78         73             36.5          90   \n",
              "14    68.3    1.75      118        75         72             36.6          89   \n",
              "15    68.0    1.75      116        77         71             36.7          88   \n",
              "16    67.8    1.75      117        75         73             36.5          87   \n",
              "17    67.5    1.75      118        77         75             36.4          86   \n",
              "18    67.7    1.75      120        78         74             36.5          85   \n",
              "19    67.6    1.75      119        77         72             36.6          85   \n",
              "20    67.4    1.75      121        78         71             36.7          84   \n",
              "21    67.1    1.75      120        75         73             36.6          85   \n",
              "22    67.3    1.75      119        74         75             36.5          87   \n",
              "23    67.2    1.75      122        76         76             36.6          89   \n",
              "24    67.4    1.75      118        75         75             36.7          90   \n",
              "25    67.1    1.75      116        77         74             36.6          88   \n",
              "26    66.9    1.75      117        78         75             36.5          87   \n",
              "27    67.2    1.75      119        77         73             36.6          85   \n",
              "28    67.1    1.75      118        76         72             36.7          84   \n",
              "29    66.8    1.75      120        78         73             36.6          82   \n",
              "\n",
              "    SpO2  RespiratoryRate   BMI  Deviation  FitScore  \n",
              "0     98               16  22.9        NaN       NaN  \n",
              "1     99               18  22.9        NaN       NaN  \n",
              "2     97               17  22.8        NaN       NaN  \n",
              "3     98               17  22.7        NaN       NaN  \n",
              "4     97               18  22.6        NaN       NaN  \n",
              "5     98               16  22.5        NaN       NaN  \n",
              "6     98               17  22.6        NaN       NaN  \n",
              "7     99               16  22.6        NaN       NaN  \n",
              "8     98               18  22.4        NaN       NaN  \n",
              "9     97               17  22.4        NaN       NaN  \n",
              "10    98               16  22.3        NaN       NaN  \n",
              "11    98               17  22.2        NaN       NaN  \n",
              "12    97               16  22.3        NaN       NaN  \n",
              "13    98               17  22.2        NaN       NaN  \n",
              "14    98               16  22.3        NaN       NaN  \n",
              "15    99               18  22.2        NaN       NaN  \n",
              "16    98               17  22.1        NaN       NaN  \n",
              "17    98               16  22.0        NaN       NaN  \n",
              "18    98               17  22.0        NaN       NaN  \n",
              "19    97               18  21.9        NaN       NaN  \n",
              "20    98               16  21.9        NaN       NaN  \n",
              "21    98               17  21.8        NaN       NaN  \n",
              "22    97               18  21.8        NaN       NaN  \n",
              "23    98               17  21.8        NaN       NaN  \n",
              "24    98               16  21.9        NaN       NaN  \n",
              "25    98               17  21.8        NaN       NaN  \n",
              "26    97               18  21.7        NaN       NaN  \n",
              "27    98               16  21.8        NaN       NaN  \n",
              "28    98               17  21.8        NaN       NaN  \n",
              "29    98               18  21.7        NaN       NaN  "
            ],
            "text/html": [
              "\n",
              "\n",
              "  <div id=\"df-c68182f5-63e2-46a1-b325-8b697cf25f76\">\n",
              "    <div class=\"colab-df-container\">\n",
              "      <div>\n",
              "<style scoped>\n",
              "    .dataframe tbody tr th:only-of-type {\n",
              "        vertical-align: middle;\n",
              "    }\n",
              "\n",
              "    .dataframe tbody tr th {\n",
              "        vertical-align: top;\n",
              "    }\n",
              "\n",
              "    .dataframe thead th {\n",
              "        text-align: right;\n",
              "    }\n",
              "</style>\n",
              "<table border=\"1\" class=\"dataframe\">\n",
              "  <thead>\n",
              "    <tr style=\"text-align: right;\">\n",
              "      <th></th>\n",
              "      <th>Weight</th>\n",
              "      <th>Height</th>\n",
              "      <th>Systole</th>\n",
              "      <th>Diastole</th>\n",
              "      <th>HeartRate</th>\n",
              "      <th>BodyTemperature</th>\n",
              "      <th>BloodSugar</th>\n",
              "      <th>SpO2</th>\n",
              "      <th>RespiratoryRate</th>\n",
              "      <th>BMI</th>\n",
              "      <th>Deviation</th>\n",
              "      <th>FitScore</th>\n",
              "    </tr>\n",
              "  </thead>\n",
              "  <tbody>\n",
              "    <tr>\n",
              "      <th>0</th>\n",
              "      <td>70.2</td>\n",
              "      <td>1.75</td>\n",
              "      <td>120</td>\n",
              "      <td>80</td>\n",
              "      <td>75</td>\n",
              "      <td>36.5</td>\n",
              "      <td>90</td>\n",
              "      <td>98</td>\n",
              "      <td>16</td>\n",
              "      <td>22.9</td>\n",
              "      <td>NaN</td>\n",
              "      <td>NaN</td>\n",
              "    </tr>\n",
              "    <tr>\n",
              "      <th>1</th>\n",
              "      <td>70.0</td>\n",
              "      <td>1.75</td>\n",
              "      <td>118</td>\n",
              "      <td>78</td>\n",
              "      <td>78</td>\n",
              "      <td>36.6</td>\n",
              "      <td>95</td>\n",
              "      <td>99</td>\n",
              "      <td>18</td>\n",
              "      <td>22.9</td>\n",
              "      <td>NaN</td>\n",
              "      <td>NaN</td>\n",
              "    </tr>\n",
              "    <tr>\n",
              "      <th>2</th>\n",
              "      <td>69.8</td>\n",
              "      <td>1.75</td>\n",
              "      <td>115</td>\n",
              "      <td>75</td>\n",
              "      <td>80</td>\n",
              "      <td>36.7</td>\n",
              "      <td>100</td>\n",
              "      <td>97</td>\n",
              "      <td>17</td>\n",
              "      <td>22.8</td>\n",
              "      <td>NaN</td>\n",
              "      <td>NaN</td>\n",
              "    </tr>\n",
              "    <tr>\n",
              "      <th>3</th>\n",
              "      <td>69.5</td>\n",
              "      <td>1.75</td>\n",
              "      <td>117</td>\n",
              "      <td>76</td>\n",
              "      <td>76</td>\n",
              "      <td>36.8</td>\n",
              "      <td>92</td>\n",
              "      <td>98</td>\n",
              "      <td>17</td>\n",
              "      <td>22.7</td>\n",
              "      <td>NaN</td>\n",
              "      <td>NaN</td>\n",
              "    </tr>\n",
              "    <tr>\n",
              "      <th>4</th>\n",
              "      <td>69.3</td>\n",
              "      <td>1.75</td>\n",
              "      <td>116</td>\n",
              "      <td>78</td>\n",
              "      <td>74</td>\n",
              "      <td>36.9</td>\n",
              "      <td>91</td>\n",
              "      <td>97</td>\n",
              "      <td>18</td>\n",
              "      <td>22.6</td>\n",
              "      <td>NaN</td>\n",
              "      <td>NaN</td>\n",
              "    </tr>\n",
              "    <tr>\n",
              "      <th>5</th>\n",
              "      <td>69.0</td>\n",
              "      <td>1.75</td>\n",
              "      <td>119</td>\n",
              "      <td>77</td>\n",
              "      <td>75</td>\n",
              "      <td>36.7</td>\n",
              "      <td>93</td>\n",
              "      <td>98</td>\n",
              "      <td>16</td>\n",
              "      <td>22.5</td>\n",
              "      <td>NaN</td>\n",
              "      <td>NaN</td>\n",
              "    </tr>\n",
              "    <tr>\n",
              "      <th>6</th>\n",
              "      <td>69.2</td>\n",
              "      <td>1.75</td>\n",
              "      <td>121</td>\n",
              "      <td>79</td>\n",
              "      <td>73</td>\n",
              "      <td>36.6</td>\n",
              "      <td>90</td>\n",
              "      <td>98</td>\n",
              "      <td>17</td>\n",
              "      <td>22.6</td>\n",
              "      <td>NaN</td>\n",
              "      <td>NaN</td>\n",
              "    </tr>\n",
              "    <tr>\n",
              "      <th>7</th>\n",
              "      <td>69.1</td>\n",
              "      <td>1.75</td>\n",
              "      <td>119</td>\n",
              "      <td>78</td>\n",
              "      <td>74</td>\n",
              "      <td>36.5</td>\n",
              "      <td>88</td>\n",
              "      <td>99</td>\n",
              "      <td>16</td>\n",
              "      <td>22.6</td>\n",
              "      <td>NaN</td>\n",
              "      <td>NaN</td>\n",
              "    </tr>\n",
              "    <tr>\n",
              "      <th>8</th>\n",
              "      <td>68.8</td>\n",
              "      <td>1.75</td>\n",
              "      <td>118</td>\n",
              "      <td>76</td>\n",
              "      <td>75</td>\n",
              "      <td>36.4</td>\n",
              "      <td>85</td>\n",
              "      <td>98</td>\n",
              "      <td>18</td>\n",
              "      <td>22.4</td>\n",
              "      <td>NaN</td>\n",
              "      <td>NaN</td>\n",
              "    </tr>\n",
              "    <tr>\n",
              "      <th>9</th>\n",
              "      <td>68.5</td>\n",
              "      <td>1.75</td>\n",
              "      <td>120</td>\n",
              "      <td>78</td>\n",
              "      <td>73</td>\n",
              "      <td>36.5</td>\n",
              "      <td>87</td>\n",
              "      <td>97</td>\n",
              "      <td>17</td>\n",
              "      <td>22.4</td>\n",
              "      <td>NaN</td>\n",
              "      <td>NaN</td>\n",
              "    </tr>\n",
              "    <tr>\n",
              "      <th>10</th>\n",
              "      <td>68.3</td>\n",
              "      <td>1.75</td>\n",
              "      <td>119</td>\n",
              "      <td>75</td>\n",
              "      <td>72</td>\n",
              "      <td>36.6</td>\n",
              "      <td>89</td>\n",
              "      <td>98</td>\n",
              "      <td>16</td>\n",
              "      <td>22.3</td>\n",
              "      <td>NaN</td>\n",
              "      <td>NaN</td>\n",
              "    </tr>\n",
              "    <tr>\n",
              "      <th>11</th>\n",
              "      <td>68.0</td>\n",
              "      <td>1.75</td>\n",
              "      <td>122</td>\n",
              "      <td>79</td>\n",
              "      <td>74</td>\n",
              "      <td>36.7</td>\n",
              "      <td>90</td>\n",
              "      <td>98</td>\n",
              "      <td>17</td>\n",
              "      <td>22.2</td>\n",
              "      <td>NaN</td>\n",
              "      <td>NaN</td>\n",
              "    </tr>\n",
              "    <tr>\n",
              "      <th>12</th>\n",
              "      <td>68.2</td>\n",
              "      <td>1.75</td>\n",
              "      <td>120</td>\n",
              "      <td>76</td>\n",
              "      <td>75</td>\n",
              "      <td>36.6</td>\n",
              "      <td>91</td>\n",
              "      <td>97</td>\n",
              "      <td>16</td>\n",
              "      <td>22.3</td>\n",
              "      <td>NaN</td>\n",
              "      <td>NaN</td>\n",
              "    </tr>\n",
              "    <tr>\n",
              "      <th>13</th>\n",
              "      <td>68.1</td>\n",
              "      <td>1.75</td>\n",
              "      <td>121</td>\n",
              "      <td>78</td>\n",
              "      <td>73</td>\n",
              "      <td>36.5</td>\n",
              "      <td>90</td>\n",
              "      <td>98</td>\n",
              "      <td>17</td>\n",
              "      <td>22.2</td>\n",
              "      <td>NaN</td>\n",
              "      <td>NaN</td>\n",
              "    </tr>\n",
              "    <tr>\n",
              "      <th>14</th>\n",
              "      <td>68.3</td>\n",
              "      <td>1.75</td>\n",
              "      <td>118</td>\n",
              "      <td>75</td>\n",
              "      <td>72</td>\n",
              "      <td>36.6</td>\n",
              "      <td>89</td>\n",
              "      <td>98</td>\n",
              "      <td>16</td>\n",
              "      <td>22.3</td>\n",
              "      <td>NaN</td>\n",
              "      <td>NaN</td>\n",
              "    </tr>\n",
              "    <tr>\n",
              "      <th>15</th>\n",
              "      <td>68.0</td>\n",
              "      <td>1.75</td>\n",
              "      <td>116</td>\n",
              "      <td>77</td>\n",
              "      <td>71</td>\n",
              "      <td>36.7</td>\n",
              "      <td>88</td>\n",
              "      <td>99</td>\n",
              "      <td>18</td>\n",
              "      <td>22.2</td>\n",
              "      <td>NaN</td>\n",
              "      <td>NaN</td>\n",
              "    </tr>\n",
              "    <tr>\n",
              "      <th>16</th>\n",
              "      <td>67.8</td>\n",
              "      <td>1.75</td>\n",
              "      <td>117</td>\n",
              "      <td>75</td>\n",
              "      <td>73</td>\n",
              "      <td>36.5</td>\n",
              "      <td>87</td>\n",
              "      <td>98</td>\n",
              "      <td>17</td>\n",
              "      <td>22.1</td>\n",
              "      <td>NaN</td>\n",
              "      <td>NaN</td>\n",
              "    </tr>\n",
              "    <tr>\n",
              "      <th>17</th>\n",
              "      <td>67.5</td>\n",
              "      <td>1.75</td>\n",
              "      <td>118</td>\n",
              "      <td>77</td>\n",
              "      <td>75</td>\n",
              "      <td>36.4</td>\n",
              "      <td>86</td>\n",
              "      <td>98</td>\n",
              "      <td>16</td>\n",
              "      <td>22.0</td>\n",
              "      <td>NaN</td>\n",
              "      <td>NaN</td>\n",
              "    </tr>\n",
              "    <tr>\n",
              "      <th>18</th>\n",
              "      <td>67.7</td>\n",
              "      <td>1.75</td>\n",
              "      <td>120</td>\n",
              "      <td>78</td>\n",
              "      <td>74</td>\n",
              "      <td>36.5</td>\n",
              "      <td>85</td>\n",
              "      <td>98</td>\n",
              "      <td>17</td>\n",
              "      <td>22.0</td>\n",
              "      <td>NaN</td>\n",
              "      <td>NaN</td>\n",
              "    </tr>\n",
              "    <tr>\n",
              "      <th>19</th>\n",
              "      <td>67.6</td>\n",
              "      <td>1.75</td>\n",
              "      <td>119</td>\n",
              "      <td>77</td>\n",
              "      <td>72</td>\n",
              "      <td>36.6</td>\n",
              "      <td>85</td>\n",
              "      <td>97</td>\n",
              "      <td>18</td>\n",
              "      <td>21.9</td>\n",
              "      <td>NaN</td>\n",
              "      <td>NaN</td>\n",
              "    </tr>\n",
              "    <tr>\n",
              "      <th>20</th>\n",
              "      <td>67.4</td>\n",
              "      <td>1.75</td>\n",
              "      <td>121</td>\n",
              "      <td>78</td>\n",
              "      <td>71</td>\n",
              "      <td>36.7</td>\n",
              "      <td>84</td>\n",
              "      <td>98</td>\n",
              "      <td>16</td>\n",
              "      <td>21.9</td>\n",
              "      <td>NaN</td>\n",
              "      <td>NaN</td>\n",
              "    </tr>\n",
              "    <tr>\n",
              "      <th>21</th>\n",
              "      <td>67.1</td>\n",
              "      <td>1.75</td>\n",
              "      <td>120</td>\n",
              "      <td>75</td>\n",
              "      <td>73</td>\n",
              "      <td>36.6</td>\n",
              "      <td>85</td>\n",
              "      <td>98</td>\n",
              "      <td>17</td>\n",
              "      <td>21.8</td>\n",
              "      <td>NaN</td>\n",
              "      <td>NaN</td>\n",
              "    </tr>\n",
              "    <tr>\n",
              "      <th>22</th>\n",
              "      <td>67.3</td>\n",
              "      <td>1.75</td>\n",
              "      <td>119</td>\n",
              "      <td>74</td>\n",
              "      <td>75</td>\n",
              "      <td>36.5</td>\n",
              "      <td>87</td>\n",
              "      <td>97</td>\n",
              "      <td>18</td>\n",
              "      <td>21.8</td>\n",
              "      <td>NaN</td>\n",
              "      <td>NaN</td>\n",
              "    </tr>\n",
              "    <tr>\n",
              "      <th>23</th>\n",
              "      <td>67.2</td>\n",
              "      <td>1.75</td>\n",
              "      <td>122</td>\n",
              "      <td>76</td>\n",
              "      <td>76</td>\n",
              "      <td>36.6</td>\n",
              "      <td>89</td>\n",
              "      <td>98</td>\n",
              "      <td>17</td>\n",
              "      <td>21.8</td>\n",
              "      <td>NaN</td>\n",
              "      <td>NaN</td>\n",
              "    </tr>\n",
              "    <tr>\n",
              "      <th>24</th>\n",
              "      <td>67.4</td>\n",
              "      <td>1.75</td>\n",
              "      <td>118</td>\n",
              "      <td>75</td>\n",
              "      <td>75</td>\n",
              "      <td>36.7</td>\n",
              "      <td>90</td>\n",
              "      <td>98</td>\n",
              "      <td>16</td>\n",
              "      <td>21.9</td>\n",
              "      <td>NaN</td>\n",
              "      <td>NaN</td>\n",
              "    </tr>\n",
              "    <tr>\n",
              "      <th>25</th>\n",
              "      <td>67.1</td>\n",
              "      <td>1.75</td>\n",
              "      <td>116</td>\n",
              "      <td>77</td>\n",
              "      <td>74</td>\n",
              "      <td>36.6</td>\n",
              "      <td>88</td>\n",
              "      <td>98</td>\n",
              "      <td>17</td>\n",
              "      <td>21.8</td>\n",
              "      <td>NaN</td>\n",
              "      <td>NaN</td>\n",
              "    </tr>\n",
              "    <tr>\n",
              "      <th>26</th>\n",
              "      <td>66.9</td>\n",
              "      <td>1.75</td>\n",
              "      <td>117</td>\n",
              "      <td>78</td>\n",
              "      <td>75</td>\n",
              "      <td>36.5</td>\n",
              "      <td>87</td>\n",
              "      <td>97</td>\n",
              "      <td>18</td>\n",
              "      <td>21.7</td>\n",
              "      <td>NaN</td>\n",
              "      <td>NaN</td>\n",
              "    </tr>\n",
              "    <tr>\n",
              "      <th>27</th>\n",
              "      <td>67.2</td>\n",
              "      <td>1.75</td>\n",
              "      <td>119</td>\n",
              "      <td>77</td>\n",
              "      <td>73</td>\n",
              "      <td>36.6</td>\n",
              "      <td>85</td>\n",
              "      <td>98</td>\n",
              "      <td>16</td>\n",
              "      <td>21.8</td>\n",
              "      <td>NaN</td>\n",
              "      <td>NaN</td>\n",
              "    </tr>\n",
              "    <tr>\n",
              "      <th>28</th>\n",
              "      <td>67.1</td>\n",
              "      <td>1.75</td>\n",
              "      <td>118</td>\n",
              "      <td>76</td>\n",
              "      <td>72</td>\n",
              "      <td>36.7</td>\n",
              "      <td>84</td>\n",
              "      <td>98</td>\n",
              "      <td>17</td>\n",
              "      <td>21.8</td>\n",
              "      <td>NaN</td>\n",
              "      <td>NaN</td>\n",
              "    </tr>\n",
              "    <tr>\n",
              "      <th>29</th>\n",
              "      <td>66.8</td>\n",
              "      <td>1.75</td>\n",
              "      <td>120</td>\n",
              "      <td>78</td>\n",
              "      <td>73</td>\n",
              "      <td>36.6</td>\n",
              "      <td>82</td>\n",
              "      <td>98</td>\n",
              "      <td>18</td>\n",
              "      <td>21.7</td>\n",
              "      <td>NaN</td>\n",
              "      <td>NaN</td>\n",
              "    </tr>\n",
              "  </tbody>\n",
              "</table>\n",
              "</div>\n",
              "      <button class=\"colab-df-convert\" onclick=\"convertToInteractive('df-c68182f5-63e2-46a1-b325-8b697cf25f76')\"\n",
              "              title=\"Convert this dataframe to an interactive table.\"\n",
              "              style=\"display:none;\">\n",
              "\n",
              "  <svg xmlns=\"http://www.w3.org/2000/svg\" height=\"24px\"viewBox=\"0 0 24 24\"\n",
              "       width=\"24px\">\n",
              "    <path d=\"M0 0h24v24H0V0z\" fill=\"none\"/>\n",
              "    <path d=\"M18.56 5.44l.94 2.06.94-2.06 2.06-.94-2.06-.94-.94-2.06-.94 2.06-2.06.94zm-11 1L8.5 8.5l.94-2.06 2.06-.94-2.06-.94L8.5 2.5l-.94 2.06-2.06.94zm10 10l.94 2.06.94-2.06 2.06-.94-2.06-.94-.94-2.06-.94 2.06-2.06.94z\"/><path d=\"M17.41 7.96l-1.37-1.37c-.4-.4-.92-.59-1.43-.59-.52 0-1.04.2-1.43.59L10.3 9.45l-7.72 7.72c-.78.78-.78 2.05 0 2.83L4 21.41c.39.39.9.59 1.41.59.51 0 1.02-.2 1.41-.59l7.78-7.78 2.81-2.81c.8-.78.8-2.07 0-2.86zM5.41 20L4 18.59l7.72-7.72 1.47 1.35L5.41 20z\"/>\n",
              "  </svg>\n",
              "      </button>\n",
              "\n",
              "\n",
              "\n",
              "    <div id=\"df-38c7e03f-2432-47b8-a8c5-cad7259aa7aa\">\n",
              "      <button class=\"colab-df-quickchart\" onclick=\"quickchart('df-38c7e03f-2432-47b8-a8c5-cad7259aa7aa')\"\n",
              "              title=\"Suggest charts.\"\n",
              "              style=\"display:none;\">\n",
              "\n",
              "<svg xmlns=\"http://www.w3.org/2000/svg\" height=\"24px\"viewBox=\"0 0 24 24\"\n",
              "     width=\"24px\">\n",
              "    <g>\n",
              "        <path d=\"M19 3H5c-1.1 0-2 .9-2 2v14c0 1.1.9 2 2 2h14c1.1 0 2-.9 2-2V5c0-1.1-.9-2-2-2zM9 17H7v-7h2v7zm4 0h-2V7h2v10zm4 0h-2v-4h2v4z\"/>\n",
              "    </g>\n",
              "</svg>\n",
              "      </button>\n",
              "    </div>\n",
              "\n",
              "<style>\n",
              "  .colab-df-quickchart {\n",
              "    background-color: #E8F0FE;\n",
              "    border: none;\n",
              "    border-radius: 50%;\n",
              "    cursor: pointer;\n",
              "    display: none;\n",
              "    fill: #1967D2;\n",
              "    height: 32px;\n",
              "    padding: 0 0 0 0;\n",
              "    width: 32px;\n",
              "  }\n",
              "\n",
              "  .colab-df-quickchart:hover {\n",
              "    background-color: #E2EBFA;\n",
              "    box-shadow: 0px 1px 2px rgba(60, 64, 67, 0.3), 0px 1px 3px 1px rgba(60, 64, 67, 0.15);\n",
              "    fill: #174EA6;\n",
              "  }\n",
              "\n",
              "  [theme=dark] .colab-df-quickchart {\n",
              "    background-color: #3B4455;\n",
              "    fill: #D2E3FC;\n",
              "  }\n",
              "\n",
              "  [theme=dark] .colab-df-quickchart:hover {\n",
              "    background-color: #434B5C;\n",
              "    box-shadow: 0px 1px 3px 1px rgba(0, 0, 0, 0.15);\n",
              "    filter: drop-shadow(0px 1px 2px rgba(0, 0, 0, 0.3));\n",
              "    fill: #FFFFFF;\n",
              "  }\n",
              "</style>\n",
              "\n",
              "    <script>\n",
              "      async function quickchart(key) {\n",
              "        const containerElement = document.querySelector('#' + key);\n",
              "        const charts = await google.colab.kernel.invokeFunction(\n",
              "            'suggestCharts', [key], {});\n",
              "      }\n",
              "    </script>\n",
              "\n",
              "      <script>\n",
              "\n",
              "function displayQuickchartButton(domScope) {\n",
              "  let quickchartButtonEl =\n",
              "    domScope.querySelector('#df-38c7e03f-2432-47b8-a8c5-cad7259aa7aa button.colab-df-quickchart');\n",
              "  quickchartButtonEl.style.display =\n",
              "    google.colab.kernel.accessAllowed ? 'block' : 'none';\n",
              "}\n",
              "\n",
              "        displayQuickchartButton(document);\n",
              "      </script>\n",
              "      <style>\n",
              "    .colab-df-container {\n",
              "      display:flex;\n",
              "      flex-wrap:wrap;\n",
              "      gap: 12px;\n",
              "    }\n",
              "\n",
              "    .colab-df-convert {\n",
              "      background-color: #E8F0FE;\n",
              "      border: none;\n",
              "      border-radius: 50%;\n",
              "      cursor: pointer;\n",
              "      display: none;\n",
              "      fill: #1967D2;\n",
              "      height: 32px;\n",
              "      padding: 0 0 0 0;\n",
              "      width: 32px;\n",
              "    }\n",
              "\n",
              "    .colab-df-convert:hover {\n",
              "      background-color: #E2EBFA;\n",
              "      box-shadow: 0px 1px 2px rgba(60, 64, 67, 0.3), 0px 1px 3px 1px rgba(60, 64, 67, 0.15);\n",
              "      fill: #174EA6;\n",
              "    }\n",
              "\n",
              "    [theme=dark] .colab-df-convert {\n",
              "      background-color: #3B4455;\n",
              "      fill: #D2E3FC;\n",
              "    }\n",
              "\n",
              "    [theme=dark] .colab-df-convert:hover {\n",
              "      background-color: #434B5C;\n",
              "      box-shadow: 0px 1px 3px 1px rgba(0, 0, 0, 0.15);\n",
              "      filter: drop-shadow(0px 1px 2px rgba(0, 0, 0, 0.3));\n",
              "      fill: #FFFFFF;\n",
              "    }\n",
              "  </style>\n",
              "\n",
              "      <script>\n",
              "        const buttonEl =\n",
              "          document.querySelector('#df-c68182f5-63e2-46a1-b325-8b697cf25f76 button.colab-df-convert');\n",
              "        buttonEl.style.display =\n",
              "          google.colab.kernel.accessAllowed ? 'block' : 'none';\n",
              "\n",
              "        async function convertToInteractive(key) {\n",
              "          const element = document.querySelector('#df-c68182f5-63e2-46a1-b325-8b697cf25f76');\n",
              "          const dataTable =\n",
              "            await google.colab.kernel.invokeFunction('convertToInteractive',\n",
              "                                                     [key], {});\n",
              "          if (!dataTable) return;\n",
              "\n",
              "          const docLinkHtml = 'Like what you see? Visit the ' +\n",
              "            '<a target=\"_blank\" href=https://colab.research.google.com/notebooks/data_table.ipynb>data table notebook</a>'\n",
              "            + ' to learn more about interactive tables.';\n",
              "          element.innerHTML = '';\n",
              "          dataTable['output_type'] = 'display_data';\n",
              "          await google.colab.output.renderOutput(dataTable, element);\n",
              "          const docLink = document.createElement('div');\n",
              "          docLink.innerHTML = docLinkHtml;\n",
              "          element.appendChild(docLink);\n",
              "        }\n",
              "      </script>\n",
              "    </div>\n",
              "  </div>\n"
            ]
          },
          "metadata": {},
          "execution_count": 8
        }
      ]
    },
    {
      "cell_type": "markdown",
      "source": [
        "##Name File using DataFrame of Pandas Library"
      ],
      "metadata": {
        "id": "Gb_o-p-vvLnP"
      }
    },
    {
      "cell_type": "code",
      "source": [
        "#Create list of all coloumn Value to calculate on them\n",
        "Weight = df['Weight'].values\n",
        "Height = df['Height'].values\n",
        "Systole = df['Systole'].values\n",
        "Diastole = df['Diastole'].values\n",
        "HeartRate = df['HeartRate'].values\n",
        "BodyTemperature = df['BodyTemperature'].values\n",
        "BloodSugar = df['BloodSugar'].values\n",
        "SpO2 = df['SpO2'].values\n",
        "RespiratoryRate = df['RespiratoryRate'].values\n",
        "\n",
        "\n",
        "#these are the three values to be calculated\n",
        "BMI=df['BMI'].values\n",
        "Deviation=df['Deviation'].values\n",
        "FitScore=df['FitScore'].values\n",
        "\n"
      ],
      "metadata": {
        "id": "-0kSHowoUp2S"
      },
      "execution_count": null,
      "outputs": []
    },
    {
      "cell_type": "code",
      "source": [
        "print(Weight.dtype)"
      ],
      "metadata": {
        "colab": {
          "base_uri": "https://localhost:8080/"
        },
        "id": "4_4hqyDpI_8q",
        "outputId": "a091a034-dca3-4681-ccdf-7939fa2c763e"
      },
      "execution_count": null,
      "outputs": [
        {
          "output_type": "stream",
          "name": "stdout",
          "text": [
            "float64\n"
          ]
        }
      ]
    },
    {
      "cell_type": "markdown",
      "source": [
        "### Body Mass Index is calculated and stored in respective list using formula (Weight/Height^2) in kg/m^2"
      ],
      "metadata": {
        "id": "-P4fmd1_vuXr"
      }
    },
    {
      "cell_type": "code",
      "source": [
        "#assigning BMI\n",
        "j=0\n",
        "for i in range(5):\n",
        "  print(\"Weight=\"+str(Weight[j]))\n",
        "  print(\"Height=\"+str(Height[j]))\n",
        "  BMI[j]= (Weight[j])/((Height[j])*(Height[j]))\n",
        "  print(BMI[j])\n",
        "  j+=1\n",
        "\n"
      ],
      "metadata": {
        "id": "hmS9iyyGav7G",
        "colab": {
          "base_uri": "https://localhost:8080/"
        },
        "outputId": "b20ab79a-7a63-4193-f89e-0ebaff9ddac0"
      },
      "execution_count": null,
      "outputs": [
        {
          "output_type": "stream",
          "name": "stdout",
          "text": [
            "Weight=70.2\n",
            "Height=1.75\n",
            "22.922448979591838\n",
            "Weight=70.0\n",
            "Height=1.75\n",
            "22.857142857142858\n",
            "Weight=69.8\n",
            "Height=1.75\n",
            "22.791836734693877\n",
            "Weight=69.5\n",
            "Height=1.75\n",
            "22.693877551020407\n",
            "Weight=69.3\n",
            "Height=1.75\n",
            "22.628571428571426\n"
          ]
        }
      ]
    },
    {
      "cell_type": "code",
      "source": [
        "print(BMI)"
      ],
      "metadata": {
        "colab": {
          "base_uri": "https://localhost:8080/"
        },
        "id": "jhdodaekcZ1y",
        "outputId": "7e111316-2b6d-4592-df06-083795148cc7"
      },
      "execution_count": null,
      "outputs": [
        {
          "output_type": "stream",
          "name": "stdout",
          "text": [
            "[22.92244898 22.85714286 22.79183673 22.69387755 22.62857143 69.\n",
            " 69.         69.         68.         68.         68.         68.\n",
            " 68.         68.         68.         68.         67.         67.\n",
            " 67.         67.         67.         67.         67.         67.\n",
            " 67.         67.         66.         67.         67.         66.        ]\n"
          ]
        }
      ]
    },
    {
      "cell_type": "markdown",
      "source": [
        "##Important values used in calculation"
      ],
      "metadata": {
        "id": "aQLeXPsawUgU"
      }
    },
    {
      "cell_type": "code",
      "source": [
        "#normal list contains Initially normal values of all the attributes\n",
        "#these normal values are safe values\n",
        "# i.e. if user is in these values, then absolutely fit\n",
        "#list=[Systole, Diastole, BloodSugar, BMI, SpO2, HeartRate, RespiratoryRate, BodyTemperature]\n",
        "normal = [120, 80, 95, 21.7, 96, 80, 16, 36.6]\n",
        "limits = [15, 15, 15, 3.2, 4, 20, 4, 0.6]\n",
        "critical_min = [50, 30, 70, 13, 19.5, 35, 8, 24]\n",
        "critical_max = [145, 100, 200, 32, 101, 130, 40, 40]\n",
        "weights = [0.12, 0.12, 0.2, 0.06, 0.16, 0.14, 0.14, 0.06]\n",
        "question= [\n",
        "            [\n",
        "              \"Have you experienced frequent headaches, especially in the morning or on the back of your head?\",\n",
        "              \"Do you feel fatigued or have a lack of energy despite getting enough rest?\",\n",
        "              \"Have you noticed changes in your vision, such as blurred vision or seeing spots?\",\n",
        "              \"Have you felt lightheaded or dizzy?\",\n",
        "              \"Are you experiencing any changes in your urinary frequency or patterns?\"\n",
        "            ],\n",
        "            [\n",
        "              \"Do you have frequent headaches, particularly in the morning?\",\n",
        "              \"Have you felt nauseous or experienced blurred vision?\",\n",
        "              \"Are you experiencing cold or clammy skin?\",\n",
        "              \"Are you having difficulty concentrating or feeling confused?\",\n",
        "              \"Have you noticed any changes in your balance or coordination?\"\n",
        "            ],\n",
        "            [\n",
        "              \"Have you noticed an increase in thirst or are you drinking more fluids than usual?\",\n",
        "              \"Are you experiencing frequent urination or have you noticed an increase in the volume of urine?\",\n",
        "              \"Have you been feeling fatigued or more tired than usual?\",\n",
        "              \"Are you experiencing unexplained weight loss despite a regular diet?\",\n",
        "              \"Are you experiencing blurry vision or difficulty focusing?\"\n",
        "            ],\n",
        "            [\n",
        "                \"Q1\",\n",
        "                \"Q2\",\n",
        "                \"Q3\",\n",
        "                \"Q4\",\n",
        "                \"Q5\"\n",
        "            ],\n",
        "            [\n",
        "                \"Do you feel excessively tired or fatigued even with minimal exertion?\",\n",
        "                \"Have you noticed any bluish discoloration of your lips, fingertips, or nail beds?\",\n",
        "                \"Do you feel dizzy, lightheaded, or experience episodes of fainting?\",\n",
        "                \"Do you have a persistent cough, wheezing, or chest discomfort?\",\n",
        "                \"Are you sleeping well, or have you noticed any disturbances in your sleep pattern?\"\n",
        "            ],\n",
        "            [\n",
        "                \"Q1\",\n",
        "                \"Q2\",\n",
        "                \"Q3\",\n",
        "                \"Q4\",\n",
        "                \"Q5\"\n",
        "            ],\n",
        "            [\n",
        "                \"Q1\",\n",
        "                \"Q2\",\n",
        "                \"Q3\",\n",
        "                \"Q4\",\n",
        "                \"Q5\"\n",
        "            ],\n",
        "            [\n",
        "                \"Q1\",\n",
        "                \"Q2\",\n",
        "                \"Q3\",\n",
        "                \"Q4\",\n",
        "                \"Q5\"\n",
        "            ]]\n",
        "ans=[0,0,0,0,0,0,0,0]"
      ],
      "metadata": {
        "id": "v6qhMVxWJmUi"
      },
      "execution_count": null,
      "outputs": []
    },
    {
      "cell_type": "code",
      "source": [
        "##Rough Section\n",
        "\n",
        "\n",
        "\n",
        "#for spo2\n",
        "normal_min_spo2 = 95\n",
        "normal_max_spo2 = 100\n",
        "critical_min_spo2 = 19.5\n",
        "weight_SpO2 = 0.25\n",
        "\n",
        "#for diastole\n",
        "normal_min_diastole = 55\n",
        "normal_max_diastole = 80\n",
        "weight_diastole = 0.11\n",
        "critical_min_diastole = 25\n",
        "critical_max_diastole = 98\n",
        "\n",
        "#for systole\n",
        "normal_min_systole = 85\n",
        "normal_max_systole = 115\n",
        "weight_systole = 0.11\n",
        "critical_min_systole = 50\n",
        "critical_max_systole = 145\n",
        "\n",
        "#for bloodsugar\n",
        "normal_min_bloodsugar = 80\n",
        "normal_max_bloodsugar = 120\n",
        "weight_bloodsugar = 0.21\n",
        "critical_min_bloodsugar = 70\n",
        "critical_max_bloodsugar = 200\n",
        "\n",
        "#for HeartRate\n",
        "normal_min_heartRate = 60\n",
        "normal_max_heartRate = 100\n",
        "weight_HeartRate = 0.2\n",
        "critical_min_heartRate = 35\n",
        "critical_max_heartRate = 130\n",
        "\n",
        "\n",
        "#for temperature\n",
        "normal_min_temp = 36.11\n",
        "normal_max_temp = 37.22\n",
        "weight_Temperature = 0.02\n",
        "critical_min_temp = 24\n",
        "critical_max_temp = 40\n",
        "\n",
        "\n",
        "#for BMI\n",
        "normal_min_BMI = 18.5\n",
        "normal_max_BMI = 24.9\n",
        "weight_BMI = 0.1\n",
        "critical_min_BMI = 13\n",
        "critical_max_BMI = 32\n"
      ],
      "metadata": {
        "id": "qZnrjebeHf7_"
      },
      "execution_count": null,
      "outputs": []
    },
    {
      "cell_type": "markdown",
      "source": [
        "#Calculation of error and then Finally calculating FitnessScore"
      ],
      "metadata": {
        "id": "hUK5W5VBwgk6"
      }
    },
    {
      "cell_type": "markdown",
      "source": [
        "####Error : (Ideal Value - Current Value)*(Slope)"
      ],
      "metadata": {
        "id": "IgtZNgcYwwpz"
      }
    },
    {
      "cell_type": "markdown",
      "source": [
        "#### Deviation: Weighted sum of all errors"
      ],
      "metadata": {
        "id": "siBOtggHw7RB"
      }
    },
    {
      "cell_type": "markdown",
      "source": [
        "####Fit Score : 1 - Total Deviation"
      ],
      "metadata": {
        "id": "us1tNaQ1xIPz"
      }
    },
    {
      "cell_type": "code",
      "source": [
        "#function for calculating error\n",
        "def delta(k, current_value):\n",
        "  error=0\n",
        "  if normal[k]-limits[k] <= current_value <= normal[k]+limits[k] :\n",
        "    error=0\n",
        "  elif critical_min[k] <= current_value <= normal[k]-limits[k]:\n",
        "    error = (1/(normal_min - critical_min))*(normal_min-current_value)\n",
        "  elif normal[k]+limits[k] >= current_value >= critical_max :\n",
        "    error = (1/(critical_max - normal_max))*(critical_max - normal_max)\n",
        "  else:\n",
        "    error = 1\n",
        "\n",
        "  return error\n",
        "\n",
        "#assigning BMI\n",
        "j=0\n",
        "for i in Gender:\n",
        "\n",
        "  delta_SpO2 = delta(normal_min_spo2, normal_max_spo2, critical_min_spo2, normal_max_spo2 + 1, int(SpO2[j]))\n",
        "  delta_Diastole = delta(normal_min_diastole, normal_max_diastole, critical_min_diastole, critical_max_diastole, int(Diastole[j]))\n",
        "  delta_Systole = delta(normal_min_systole, normal_max_systole, critical_min_systole, critical_max_systole, int(Systole[j]))\n",
        "  delta_BloodSugar = delta(normal_min_bloodsugar, normal_max_bloodsugar, critical_min_bloodsugar, critical_max_bloodsugar, int(BloodSugar[j]))\n",
        "  delta_HeartRate = delta(normal_min_heartRate, normal_max_heartRate, critical_min_heartRate, critical_max_heartRate, int(HeartRate[j]))\n",
        "  delta_Temperature = delta(normal_min_temp, normal_max_temp, critical_min_temp, critical_max_temp, int(Temperature[j]))\n",
        "  delta_BMI = delta(normal_min_BMI, normal_max_BMI, critical_min_BMI, critical_max_BMI, int(BMI[j]))\n",
        "\n",
        "  Deviation[j] = (weight_SpO2*delta_SpO2)+(weight_diastole*delta_Diastole)+(weight_systole*delta_Systole)+(weight_bloodsugar*delta_BloodSugar)+(weight_HeartRate*delta_HeartRate)+(weight_Temperature*delta_Temperature)+(weight_BMI*delta_BMI)\n",
        "  FitScore[j] = int((1 - Deviation[j])*100)\n",
        "\n",
        "\n",
        "  j+=1\n",
        "\n"
      ],
      "metadata": {
        "id": "l-ggyigWd1u4"
      },
      "execution_count": null,
      "outputs": []
    },
    {
      "cell_type": "code",
      "source": [
        "print(FitScore)"
      ],
      "metadata": {
        "colab": {
          "base_uri": "https://localhost:8080/"
        },
        "id": "G1HJL_qgm3XK",
        "outputId": "47399079-f191-4d39-98c6-1facca26ef61"
      },
      "execution_count": null,
      "outputs": [
        {
          "output_type": "stream",
          "name": "stdout",
          "text": [
            "[46 47 47 ... 57 84 89]\n"
          ]
        }
      ]
    },
    {
      "cell_type": "markdown",
      "source": [
        "# Writing in the Dataset\n"
      ],
      "metadata": {
        "id": "_8OEUYHAn7rG"
      }
    },
    {
      "cell_type": "code",
      "source": [
        "filename = open(\"Dataset.csv\",'w')\n",
        "\n",
        "j=0\n",
        "for i in Gender:\n",
        "  Rlist1 = str(Gender[j]) + \",\" + str(Age[j]) + ',' + str(Height[j]) + ',' + str(Weight[j]) + ',' + str(Temperature[j]) + ',' + str(Systole[j]) + ',' + str(Diastole[j]) + ',' + str(HeartRate[j]) + ',' + str(SpO2[j]) + ',' + str(BloodSugar[j]) + ',' + str(BMI[j]) + ',' + str(Deviation[j]) + ',' + str(FitScore[j])\n",
        "  filename.write(Rlist1)\n",
        "  filename.write(\"\\n\")\n",
        "  filename.flush()\n",
        "\n",
        "  j+=1\n",
        "filename.close()"
      ],
      "metadata": {
        "id": "wnKr5MwooKpa"
      },
      "execution_count": null,
      "outputs": []
    },
    {
      "cell_type": "markdown",
      "source": [
        "#Writing **Machine Learning** Code"
      ],
      "metadata": {
        "id": "G8G0omjCyHgY"
      }
    },
    {
      "cell_type": "code",
      "source": [
        "import matplotlib.pyplot as plt\n",
        "\n",
        "X = df.iloc[:, 1:-2].values\n",
        "Y = df.iloc[:, -1].values\n",
        "\n",
        "# plot the data\n",
        "plt.figure(figsize=(20, 20))\n",
        "\n",
        "# Assuming X and Y have the same number of columns\n",
        "for i in range(X.shape[1]):\n",
        "    plt.plot(X[:, i], Y, marker='o', linestyle='', label=f'Feature {i + 1}')\n",
        "\n",
        "plt.xlabel('Health Vitals')\n",
        "plt.ylabel('Fit Score')\n",
        "plt.title('Health Vitals Vs FitScore')\n",
        "plt.legend()\n",
        "plt.show()\n"
      ],
      "metadata": {
        "id": "d7z4YxDGyQju",
        "colab": {
          "base_uri": "https://localhost:8080/",
          "height": 1000
        },
        "outputId": "327169b9-6c7e-4673-a88a-9877d9bb2703"
      },
      "execution_count": null,
      "outputs": [
        {
          "output_type": "display_data",
          "data": {
            "text/plain": [
              "<Figure size 2000x2000 with 1 Axes>"
            ],
            "image/png": "[encoded data removed]"
          },
          "metadata": {}
        }
      ]
    },
    {
      "cell_type": "markdown",
      "source": [
        "##Code to Split Data"
      ],
      "metadata": {
        "id": "9O1akJnVMFmO"
      }
    },
    {
      "cell_type": "code",
      "source": [
        "from sklearn.model_selection import train_test_split\n",
        "X_train, X_test, Y_train, Y_test = train_test_split(X, Y, test_size = 0.25, random_state = 0)"
      ],
      "metadata": {
        "id": "Ars8iooiMJez"
      },
      "execution_count": null,
      "outputs": []
    },
    {
      "cell_type": "code",
      "source": [
        "from sklearn.preprocessing import StandardScaler\n",
        "sc = StandardScaler()\n",
        "X_train = sc.fit_transform(X_train)\n",
        "X_test = sc.transform(X_test)"
      ],
      "metadata": {
        "id": "7QAqEMVJMmAK"
      },
      "execution_count": null,
      "outputs": []
    },
    {
      "cell_type": "code",
      "source": [
        "print(Y_train.dtype)\n"
      ],
      "metadata": {
        "colab": {
          "base_uri": "https://localhost:8080/"
        },
        "id": "XpeUhYqCtL1R",
        "outputId": "3c32a313-08a3-404c-8487-749dab4831ce"
      },
      "execution_count": null,
      "outputs": [
        {
          "output_type": "stream",
          "name": "stdout",
          "text": [
            "int64\n"
          ]
        }
      ]
    },
    {
      "cell_type": "code",
      "source": [
        "Y_train = Y_train.astype(int)\n",
        "Y_train.dtype\n"
      ],
      "metadata": {
        "id": "Hfd24k2ctWkv",
        "colab": {
          "base_uri": "https://localhost:8080/"
        },
        "outputId": "7bc4bf08-5d34-4e39-8a51-b6cb78e575da"
      },
      "execution_count": null,
      "outputs": [
        {
          "output_type": "execute_result",
          "data": {
            "text/plain": [
              "dtype('int64')"
            ]
          },
          "metadata": {},
          "execution_count": 27
        }
      ]
    },
    {
      "cell_type": "markdown",
      "source": [
        "#Naive Bayes\n"
      ],
      "metadata": {
        "id": "HnzpLVAm05qv"
      }
    },
    {
      "cell_type": "code",
      "source": [
        "from sklearn.naive_bayes import GaussianNB\n",
        "classifier = GaussianNB()\n",
        "classifier.fit(X_train, Y_train)"
      ],
      "metadata": {
        "colab": {
          "base_uri": "https://localhost:8080/",
          "height": 74
        },
        "id": "g-ipDPjRthm4",
        "outputId": "f79c0096-1ecd-4e52-800f-30881ec868e8"
      },
      "execution_count": null,
      "outputs": [
        {
          "output_type": "execute_result",
          "data": {
            "text/plain": [
              "GaussianNB()"
            ],
            "text/html": [
              "<style>#sk-container-id-2 {color: black;background-color: white;}#sk-container-id-2 pre{padding: 0;}#sk-container-id-2 div.sk-toggleable {background-color: white;}#sk-container-id-2 label.sk-toggleable__label {cursor: pointer;display: block;width: 100%;margin-bottom: 0;padding: 0.3em;box-sizing: border-box;text-align: center;}#sk-container-id-2 label.sk-toggleable__label-arrow:before {content: \"▸\";float: left;margin-right: 0.25em;color: #696969;}#sk-container-id-2 label.sk-toggleable__label-arrow:hover:before {color: black;}#sk-container-id-2 div.sk-estimator:hover label.sk-toggleable__label-arrow:before {color: black;}#sk-container-id-2 div.sk-toggleable__content {max-height: 0;max-width: 0;overflow: hidden;text-align: left;background-color: #f0f8ff;}#sk-container-id-2 div.sk-toggleable__content pre {margin: 0.2em;color: black;border-radius: 0.25em;background-color: #f0f8ff;}#sk-container-id-2 input.sk-toggleable__control:checked~div.sk-toggleable__content {max-height: 200px;max-width: 100%;overflow: auto;}#sk-container-id-2 input.sk-toggleable__control:checked~label.sk-toggleable__label-arrow:before {content: \"▾\";}#sk-container-id-2 div.sk-estimator input.sk-toggleable__control:checked~label.sk-toggleable__label {background-color: #d4ebff;}#sk-container-id-2 div.sk-label input.sk-toggleable__control:checked~label.sk-toggleable__label {background-color: #d4ebff;}#sk-container-id-2 input.sk-hidden--visually {border: 0;clip: rect(1px 1px 1px 1px);clip: rect(1px, 1px, 1px, 1px);height: 1px;margin: -1px;overflow: hidden;padding: 0;position: absolute;width: 1px;}#sk-container-id-2 div.sk-estimator {font-family: monospace;background-color: #f0f8ff;border: 1px dotted black;border-radius: 0.25em;box-sizing: border-box;margin-bottom: 0.5em;}#sk-container-id-2 div.sk-estimator:hover {background-color: #d4ebff;}#sk-container-id-2 div.sk-parallel-item::after {content: \"\";width: 100%;border-bottom: 1px solid gray;flex-grow: 1;}#sk-container-id-2 div.sk-label:hover label.sk-toggleable__label {background-color: #d4ebff;}#sk-container-id-2 div.sk-serial::before {content: \"\";position: absolute;border-left: 1px solid gray;box-sizing: border-box;top: 0;bottom: 0;left: 50%;z-index: 0;}#sk-container-id-2 div.sk-serial {display: flex;flex-direction: column;align-items: center;background-color: white;padding-right: 0.2em;padding-left: 0.2em;position: relative;}#sk-container-id-2 div.sk-item {position: relative;z-index: 1;}#sk-container-id-2 div.sk-parallel {display: flex;align-items: stretch;justify-content: center;background-color: white;position: relative;}#sk-container-id-2 div.sk-item::before, #sk-container-id-2 div.sk-parallel-item::before {content: \"\";position: absolute;border-left: 1px solid gray;box-sizing: border-box;top: 0;bottom: 0;left: 50%;z-index: -1;}#sk-container-id-2 div.sk-parallel-item {display: flex;flex-direction: column;z-index: 1;position: relative;background-color: white;}#sk-container-id-2 div.sk-parallel-item:first-child::after {align-self: flex-end;width: 50%;}#sk-container-id-2 div.sk-parallel-item:last-child::after {align-self: flex-start;width: 50%;}#sk-container-id-2 div.sk-parallel-item:only-child::after {width: 0;}#sk-container-id-2 div.sk-dashed-wrapped {border: 1px dashed gray;margin: 0 0.4em 0.5em 0.4em;box-sizing: border-box;padding-bottom: 0.4em;background-color: white;}#sk-container-id-2 div.sk-label label {font-family: monospace;font-weight: bold;display: inline-block;line-height: 1.2em;}#sk-container-id-2 div.sk-label-container {text-align: center;}#sk-container-id-2 div.sk-container {/* jupyter's `normalize.less` sets `[hidden] { display: none; }` but bootstrap.min.css set `[hidden] { display: none !important; }` so we also need the `!important` here to be able to override the default hidden behavior on the sphinx rendered scikit-learn.org. See: https://github.com/scikit-learn/scikit-learn/issues/21755 */display: inline-block !important;position: relative;}#sk-container-id-2 div.sk-text-repr-fallback {display: none;}</style><div id=\"sk-container-id-2\" class=\"sk-top-container\"><div class=\"sk-text-repr-fallback\"><pre>GaussianNB()</pre><b>In a Jupyter environment, please rerun this cell to show the HTML representation or trust the notebook. <br />On GitHub, the HTML representation is unable to render, please try loading this page with nbviewer.org.</b></div><div class=\"sk-container\" hidden><div class=\"sk-item\"><div class=\"sk-estimator sk-toggleable\"><input class=\"sk-toggleable__control sk-hidden--visually\" id=\"sk-estimator-id-2\" type=\"checkbox\" checked><label for=\"sk-estimator-id-2\" class=\"sk-toggleable__label sk-toggleable__label-arrow\">GaussianNB</label><div class=\"sk-toggleable__content\"><pre>GaussianNB()</pre></div></div></div></div></div>"
            ]
          },
          "metadata": {},
          "execution_count": 44
        }
      ]
    },
    {
      "cell_type": "code",
      "source": [
        "y_pred = classifier.predict(X_test)\n",
        "y_pred"
      ],
      "metadata": {
        "colab": {
          "base_uri": "https://localhost:8080/"
        },
        "id": "Uwlz88UVto2r",
        "outputId": "a03cda8d-fd1c-499f-bc26-e4028e25f819"
      },
      "execution_count": null,
      "outputs": [
        {
          "output_type": "execute_result",
          "data": {
            "text/plain": [
              "array([18, 66, 25, ..., 78, 79, 78])"
            ]
          },
          "metadata": {},
          "execution_count": 47
        }
      ]
    },
    {
      "cell_type": "code",
      "source": [
        "from sklearn.preprocessing import LabelEncoder\n",
        "label_encoder = LabelEncoder()\n",
        "y_test_encoded = label_encoder.fit_transform(Y_test)\n",
        "\n",
        "# Convert y_pred to integers using LabelEncoder\n",
        "y_pred_encoded = label_encoder.transform(y_pred)"
      ],
      "metadata": {
        "id": "wYy28emJusaZ"
      },
      "execution_count": null,
      "outputs": []
    },
    {
      "cell_type": "code",
      "source": [
        "from sklearn.metrics import confusion_matrix\n",
        "cm = confusion_matrix(y_test_encoded, y_pred_encoded)\n",
        "print(\"Confusion Matrix\")\n",
        "print(cm)"
      ],
      "metadata": {
        "colab": {
          "base_uri": "https://localhost:8080/"
        },
        "id": "R8eZeUtDvBce",
        "outputId": "45b12175-1ee1-4f5b-99c3-9584396a7ea6"
      },
      "execution_count": null,
      "outputs": [
        {
          "output_type": "stream",
          "name": "stdout",
          "text": [
            "Confusion Matrix\n",
            "[[21  0  0 ...  0  0  0]\n",
            " [ 0 56 10 ...  0  0  0]\n",
            " [15  0 52 ...  0  0  0]\n",
            " ...\n",
            " [ 0  0  0 ...  2  0  0]\n",
            " [ 0  0  0 ...  0 13  2]\n",
            " [ 0  0  0 ...  0  5 74]]\n"
          ]
        }
      ]
    },
    {
      "cell_type": "code",
      "source": [
        "from sklearn.metrics import accuracy_score\n",
        "accuracy = accuracy_score(y_test_encoded, y_pred_encoded)\n",
        "accuracy = accuracy*100\n",
        "print(\"Accuracy:\", accuracy)"
      ],
      "metadata": {
        "colab": {
          "base_uri": "https://localhost:8080/"
        },
        "id": "WqgxANgBwN5M",
        "outputId": "62e57058-40ff-4a11-8c48-9805dccfc0ac"
      },
      "execution_count": null,
      "outputs": [
        {
          "output_type": "stream",
          "name": "stdout",
          "text": [
            "Accuracy: 30.431291580637758\n"
          ]
        }
      ]
    },
    {
      "cell_type": "markdown",
      "source": [
        "#Linear Regression\n"
      ],
      "metadata": {
        "id": "1fckHKNC1CCq"
      }
    },
    {
      "cell_type": "code",
      "source": [
        "from sklearn.linear_model import LinearRegression\n",
        "regressor= LinearRegression()\n",
        "regressor.fit(X_train, Y_train)"
      ],
      "metadata": {
        "colab": {
          "base_uri": "https://localhost:8080/",
          "height": 74
        },
        "id": "N5xU76L2y2-P",
        "outputId": "448af4c4-ded0-4916-fddc-2cef5da2e56d"
      },
      "execution_count": null,
      "outputs": [
        {
          "output_type": "execute_result",
          "data": {
            "text/plain": [
              "LinearRegression()"
            ],
            "text/html": [
              "<style>#sk-container-id-3 {color: black;background-color: white;}#sk-container-id-3 pre{padding: 0;}#sk-container-id-3 div.sk-toggleable {background-color: white;}#sk-container-id-3 label.sk-toggleable__label {cursor: pointer;display: block;width: 100%;margin-bottom: 0;padding: 0.3em;box-sizing: border-box;text-align: center;}#sk-container-id-3 label.sk-toggleable__label-arrow:before {content: \"▸\";float: left;margin-right: 0.25em;color: #696969;}#sk-container-id-3 label.sk-toggleable__label-arrow:hover:before {color: black;}#sk-container-id-3 div.sk-estimator:hover label.sk-toggleable__label-arrow:before {color: black;}#sk-container-id-3 div.sk-toggleable__content {max-height: 0;max-width: 0;overflow: hidden;text-align: left;background-color: #f0f8ff;}#sk-container-id-3 div.sk-toggleable__content pre {margin: 0.2em;color: black;border-radius: 0.25em;background-color: #f0f8ff;}#sk-container-id-3 input.sk-toggleable__control:checked~div.sk-toggleable__content {max-height: 200px;max-width: 100%;overflow: auto;}#sk-container-id-3 input.sk-toggleable__control:checked~label.sk-toggleable__label-arrow:before {content: \"▾\";}#sk-container-id-3 div.sk-estimator input.sk-toggleable__control:checked~label.sk-toggleable__label {background-color: #d4ebff;}#sk-container-id-3 div.sk-label input.sk-toggleable__control:checked~label.sk-toggleable__label {background-color: #d4ebff;}#sk-container-id-3 input.sk-hidden--visually {border: 0;clip: rect(1px 1px 1px 1px);clip: rect(1px, 1px, 1px, 1px);height: 1px;margin: -1px;overflow: hidden;padding: 0;position: absolute;width: 1px;}#sk-container-id-3 div.sk-estimator {font-family: monospace;background-color: #f0f8ff;border: 1px dotted black;border-radius: 0.25em;box-sizing: border-box;margin-bottom: 0.5em;}#sk-container-id-3 div.sk-estimator:hover {background-color: #d4ebff;}#sk-container-id-3 div.sk-parallel-item::after {content: \"\";width: 100%;border-bottom: 1px solid gray;flex-grow: 1;}#sk-container-id-3 div.sk-label:hover label.sk-toggleable__label {background-color: #d4ebff;}#sk-container-id-3 div.sk-serial::before {content: \"\";position: absolute;border-left: 1px solid gray;box-sizing: border-box;top: 0;bottom: 0;left: 50%;z-index: 0;}#sk-container-id-3 div.sk-serial {display: flex;flex-direction: column;align-items: center;background-color: white;padding-right: 0.2em;padding-left: 0.2em;position: relative;}#sk-container-id-3 div.sk-item {position: relative;z-index: 1;}#sk-container-id-3 div.sk-parallel {display: flex;align-items: stretch;justify-content: center;background-color: white;position: relative;}#sk-container-id-3 div.sk-item::before, #sk-container-id-3 div.sk-parallel-item::before {content: \"\";position: absolute;border-left: 1px solid gray;box-sizing: border-box;top: 0;bottom: 0;left: 50%;z-index: -1;}#sk-container-id-3 div.sk-parallel-item {display: flex;flex-direction: column;z-index: 1;position: relative;background-color: white;}#sk-container-id-3 div.sk-parallel-item:first-child::after {align-self: flex-end;width: 50%;}#sk-container-id-3 div.sk-parallel-item:last-child::after {align-self: flex-start;width: 50%;}#sk-container-id-3 div.sk-parallel-item:only-child::after {width: 0;}#sk-container-id-3 div.sk-dashed-wrapped {border: 1px dashed gray;margin: 0 0.4em 0.5em 0.4em;box-sizing: border-box;padding-bottom: 0.4em;background-color: white;}#sk-container-id-3 div.sk-label label {font-family: monospace;font-weight: bold;display: inline-block;line-height: 1.2em;}#sk-container-id-3 div.sk-label-container {text-align: center;}#sk-container-id-3 div.sk-container {/* jupyter's `normalize.less` sets `[hidden] { display: none; }` but bootstrap.min.css set `[hidden] { display: none !important; }` so we also need the `!important` here to be able to override the default hidden behavior on the sphinx rendered scikit-learn.org. See: https://github.com/scikit-learn/scikit-learn/issues/21755 */display: inline-block !important;position: relative;}#sk-container-id-3 div.sk-text-repr-fallback {display: none;}</style><div id=\"sk-container-id-3\" class=\"sk-top-container\"><div class=\"sk-text-repr-fallback\"><pre>LinearRegression()</pre><b>In a Jupyter environment, please rerun this cell to show the HTML representation or trust the notebook. <br />On GitHub, the HTML representation is unable to render, please try loading this page with nbviewer.org.</b></div><div class=\"sk-container\" hidden><div class=\"sk-item\"><div class=\"sk-estimator sk-toggleable\"><input class=\"sk-toggleable__control sk-hidden--visually\" id=\"sk-estimator-id-3\" type=\"checkbox\" checked><label for=\"sk-estimator-id-3\" class=\"sk-toggleable__label sk-toggleable__label-arrow\">LinearRegression</label><div class=\"sk-toggleable__content\"><pre>LinearRegression()</pre></div></div></div></div></div>"
            ]
          },
          "metadata": {},
          "execution_count": 56
        }
      ]
    },
    {
      "cell_type": "code",
      "source": [
        "y_pred= regressor.predict(X_test)\n",
        "x_pred= regressor.predict(X_train)\n",
        "print(\"y_pred\")\n",
        "print(y_pred)\n",
        "print(\"x_pred\")\n",
        "x_pred"
      ],
      "metadata": {
        "colab": {
          "base_uri": "https://localhost:8080/"
        },
        "id": "kRm-ZFMTy_og",
        "outputId": "40c63088-086c-4cd6-b03f-7c8442290d3e"
      },
      "execution_count": null,
      "outputs": [
        {
          "output_type": "stream",
          "name": "stdout",
          "text": [
            "y_pred\n",
            "[10.21300701 81.05038591 48.51847634 ... 68.5492645  70.64590957\n",
            " 73.64037296]\n",
            "x_pred\n"
          ]
        },
        {
          "output_type": "execute_result",
          "data": {
            "text/plain": [
              "array([35.09211789, 73.73754478, 64.53983335, ..., 68.82407894,\n",
              "       69.3464699 , 28.99416699])"
            ]
          },
          "metadata": {},
          "execution_count": 60
        }
      ]
    },
    {
      "cell_type": "code",
      "source": [
        "from sklearn.metrics import mean_absolute_error, mean_squared_error, r2_score\n",
        "mae = mean_absolute_error(Y_test, y_pred)\n",
        "\n",
        "# Calculate Mean Squared Error (MSE)\n",
        "mse = mean_squared_error(Y_test, y_pred)\n",
        "\n",
        "# Calculate Root Mean Squared Error (RMSE)\n",
        "rmse = mean_squared_error(Y_test, y_pred, squared=False)\n",
        "\n",
        "# Calculate R-squared (R2)\n",
        "r2 = r2_score(Y_test, y_pred)\n",
        "\n",
        "print(\"Mean Absolute Error:\", mae)\n",
        "print(\"Mean Squared Error:\", mse)\n",
        "print(\"Root Mean Squared Error:\", rmse)\n",
        "print(\"R-squared (R2):\", r2)\n",
        "\n",
        "r3=r2*100\n",
        "print(\"Percentage Of R-squared\", r3)\n",
        "\n",
        "\n",
        "\n",
        "\n",
        "\n"
      ],
      "metadata": {
        "colab": {
          "base_uri": "https://localhost:8080/"
        },
        "id": "Cr3JYThRztw-",
        "outputId": "882a43b6-1714-480a-a5d5-f43c59214d83"
      },
      "execution_count": null,
      "outputs": [
        {
          "output_type": "stream",
          "name": "stdout",
          "text": [
            "Mean Absolute Error: 9.347773851006238\n",
            "Mean Squared Error: 133.68111083189208\n",
            "Root Mean Squared Error: 11.562054784158915\n",
            "R-squared (R2): 0.7711138255638609\n",
            "Percentage Of R-squared 77.11138255638609\n"
          ]
        }
      ]
    },
    {
      "cell_type": "markdown",
      "source": [
        "#KNN\n"
      ],
      "metadata": {
        "id": "gegxnAVp1ONI"
      }
    },
    {
      "cell_type": "code",
      "source": [
        "from sklearn.neighbors import KNeighborsClassifier\n",
        "classifier= KNeighborsClassifier(n_neighbors=8, metric='minkowski', p=2 )\n",
        "classifier.fit(X_train, Y_train)"
      ],
      "metadata": {
        "colab": {
          "base_uri": "https://localhost:8080/",
          "height": 74
        },
        "id": "sDu1NLNc1Qy_",
        "outputId": "44076617-6b5e-46a8-b02e-565ee3dfa767"
      },
      "execution_count": null,
      "outputs": [
        {
          "output_type": "execute_result",
          "data": {
            "text/plain": [
              "KNeighborsClassifier(n_neighbors=8)"
            ],
            "text/html": [
              "<style>#sk-container-id-10 {color: black;background-color: white;}#sk-container-id-10 pre{padding: 0;}#sk-container-id-10 div.sk-toggleable {background-color: white;}#sk-container-id-10 label.sk-toggleable__label {cursor: pointer;display: block;width: 100%;margin-bottom: 0;padding: 0.3em;box-sizing: border-box;text-align: center;}#sk-container-id-10 label.sk-toggleable__label-arrow:before {content: \"▸\";float: left;margin-right: 0.25em;color: #696969;}#sk-container-id-10 label.sk-toggleable__label-arrow:hover:before {color: black;}#sk-container-id-10 div.sk-estimator:hover label.sk-toggleable__label-arrow:before {color: black;}#sk-container-id-10 div.sk-toggleable__content {max-height: 0;max-width: 0;overflow: hidden;text-align: left;background-color: #f0f8ff;}#sk-container-id-10 div.sk-toggleable__content pre {margin: 0.2em;color: black;border-radius: 0.25em;background-color: #f0f8ff;}#sk-container-id-10 input.sk-toggleable__control:checked~div.sk-toggleable__content {max-height: 200px;max-width: 100%;overflow: auto;}#sk-container-id-10 input.sk-toggleable__control:checked~label.sk-toggleable__label-arrow:before {content: \"▾\";}#sk-container-id-10 div.sk-estimator input.sk-toggleable__control:checked~label.sk-toggleable__label {background-color: #d4ebff;}#sk-container-id-10 div.sk-label input.sk-toggleable__control:checked~label.sk-toggleable__label {background-color: #d4ebff;}#sk-container-id-10 input.sk-hidden--visually {border: 0;clip: rect(1px 1px 1px 1px);clip: rect(1px, 1px, 1px, 1px);height: 1px;margin: -1px;overflow: hidden;padding: 0;position: absolute;width: 1px;}#sk-container-id-10 div.sk-estimator {font-family: monospace;background-color: #f0f8ff;border: 1px dotted black;border-radius: 0.25em;box-sizing: border-box;margin-bottom: 0.5em;}#sk-container-id-10 div.sk-estimator:hover {background-color: #d4ebff;}#sk-container-id-10 div.sk-parallel-item::after {content: \"\";width: 100%;border-bottom: 1px solid gray;flex-grow: 1;}#sk-container-id-10 div.sk-label:hover label.sk-toggleable__label {background-color: #d4ebff;}#sk-container-id-10 div.sk-serial::before {content: \"\";position: absolute;border-left: 1px solid gray;box-sizing: border-box;top: 0;bottom: 0;left: 50%;z-index: 0;}#sk-container-id-10 div.sk-serial {display: flex;flex-direction: column;align-items: center;background-color: white;padding-right: 0.2em;padding-left: 0.2em;position: relative;}#sk-container-id-10 div.sk-item {position: relative;z-index: 1;}#sk-container-id-10 div.sk-parallel {display: flex;align-items: stretch;justify-content: center;background-color: white;position: relative;}#sk-container-id-10 div.sk-item::before, #sk-container-id-10 div.sk-parallel-item::before {content: \"\";position: absolute;border-left: 1px solid gray;box-sizing: border-box;top: 0;bottom: 0;left: 50%;z-index: -1;}#sk-container-id-10 div.sk-parallel-item {display: flex;flex-direction: column;z-index: 1;position: relative;background-color: white;}#sk-container-id-10 div.sk-parallel-item:first-child::after {align-self: flex-end;width: 50%;}#sk-container-id-10 div.sk-parallel-item:last-child::after {align-self: flex-start;width: 50%;}#sk-container-id-10 div.sk-parallel-item:only-child::after {width: 0;}#sk-container-id-10 div.sk-dashed-wrapped {border: 1px dashed gray;margin: 0 0.4em 0.5em 0.4em;box-sizing: border-box;padding-bottom: 0.4em;background-color: white;}#sk-container-id-10 div.sk-label label {font-family: monospace;font-weight: bold;display: inline-block;line-height: 1.2em;}#sk-container-id-10 div.sk-label-container {text-align: center;}#sk-container-id-10 div.sk-container {/* jupyter's `normalize.less` sets `[hidden] { display: none; }` but bootstrap.min.css set `[hidden] { display: none !important; }` so we also need the `!important` here to be able to override the default hidden behavior on the sphinx rendered scikit-learn.org. See: https://github.com/scikit-learn/scikit-learn/issues/21755 */display: inline-block !important;position: relative;}#sk-container-id-10 div.sk-text-repr-fallback {display: none;}</style><div id=\"sk-container-id-10\" class=\"sk-top-container\"><div class=\"sk-text-repr-fallback\"><pre>KNeighborsClassifier(n_neighbors=8)</pre><b>In a Jupyter environment, please rerun this cell to show the HTML representation or trust the notebook. <br />On GitHub, the HTML representation is unable to render, please try loading this page with nbviewer.org.</b></div><div class=\"sk-container\" hidden><div class=\"sk-item\"><div class=\"sk-estimator sk-toggleable\"><input class=\"sk-toggleable__control sk-hidden--visually\" id=\"sk-estimator-id-10\" type=\"checkbox\" checked><label for=\"sk-estimator-id-10\" class=\"sk-toggleable__label sk-toggleable__label-arrow\">KNeighborsClassifier</label><div class=\"sk-toggleable__content\"><pre>KNeighborsClassifier(n_neighbors=8)</pre></div></div></div></div></div>"
            ]
          },
          "metadata": {},
          "execution_count": 99
        }
      ]
    },
    {
      "cell_type": "code",
      "source": [
        "y_pred= classifier.predict(X_test)\n",
        "y_pred"
      ],
      "metadata": {
        "colab": {
          "base_uri": "https://localhost:8080/"
        },
        "id": "eAqd-KzH4971",
        "outputId": "e30a4174-c062-43b0-a54b-39c395645216"
      },
      "execution_count": null,
      "outputs": [
        {
          "output_type": "execute_result",
          "data": {
            "text/plain": [
              "array([19, 46, 46, ..., 68, 68, 68])"
            ]
          },
          "metadata": {},
          "execution_count": 100
        }
      ]
    },
    {
      "cell_type": "code",
      "source": [
        "from sklearn.preprocessing import LabelEncoder\n",
        "label_encoder = LabelEncoder()\n",
        "y_test_encoded = label_encoder.fit_transform(Y_test)\n",
        "\n",
        "# Convert y_pred to integers using LabelEncoder\n",
        "y_pred_encoded = label_encoder.transform(y_pred)"
      ],
      "metadata": {
        "id": "oxHoLfK65Ppt"
      },
      "execution_count": null,
      "outputs": []
    },
    {
      "cell_type": "code",
      "source": [
        "from sklearn.metrics import confusion_matrix\n",
        "cm= confusion_matrix(y_test_encoded, y_pred_encoded)\n",
        "print(\"Confusion Matrix\")\n",
        "print(cm)"
      ],
      "metadata": {
        "colab": {
          "base_uri": "https://localhost:8080/"
        },
        "id": "XZCGUFu35GY1",
        "outputId": "18c051c5-9a59-4e31-a87b-613e0b85c660"
      },
      "execution_count": null,
      "outputs": [
        {
          "output_type": "stream",
          "name": "stdout",
          "text": [
            "Confusion Matrix\n",
            "[[ 0 19  2 ...  0  0  0]\n",
            " [ 3 36 19 ...  0  0  0]\n",
            " [ 3 18 38 ...  0  0  0]\n",
            " ...\n",
            " [ 0  0  0 ...  0  0  0]\n",
            " [ 0  0  0 ...  0  0  0]\n",
            " [ 0  0  0 ...  0  0  9]]\n"
          ]
        }
      ]
    },
    {
      "cell_type": "code",
      "source": [
        "from sklearn.metrics import accuracy_score\n",
        "accuracy = accuracy_score(y_test_encoded, y_pred_encoded)\n",
        "accuracy = accuracy*100\n",
        "\n",
        "print(\"Accuracy:\", accuracy)"
      ],
      "metadata": {
        "id": "2-DDsjBT5fYE"
      },
      "execution_count": null,
      "outputs": []
    },
    {
      "cell_type": "markdown",
      "source": [
        "#SVM"
      ],
      "metadata": {
        "id": "pY1x_jAD6peP"
      }
    },
    {
      "cell_type": "code",
      "source": [
        "from sklearn.svm import SVC # \"Support vector classifier\"\n",
        "classifier = SVC(kernel='linear', random_state=0)\n",
        "classifier.fit(X_train, Y_train)"
      ],
      "metadata": {
        "colab": {
          "base_uri": "https://localhost:8080/",
          "height": 74
        },
        "id": "ZqtWWldf6w5e",
        "outputId": "8f3307e4-da23-4b48-b24b-ec8f974cf50e"
      },
      "execution_count": null,
      "outputs": [
        {
          "output_type": "execute_result",
          "data": {
            "text/plain": [
              "SVC(kernel='linear', random_state=0)"
            ],
            "text/html": [
              "<style>#sk-container-id-11 {color: black;background-color: white;}#sk-container-id-11 pre{padding: 0;}#sk-container-id-11 div.sk-toggleable {background-color: white;}#sk-container-id-11 label.sk-toggleable__label {cursor: pointer;display: block;width: 100%;margin-bottom: 0;padding: 0.3em;box-sizing: border-box;text-align: center;}#sk-container-id-11 label.sk-toggleable__label-arrow:before {content: \"▸\";float: left;margin-right: 0.25em;color: #696969;}#sk-container-id-11 label.sk-toggleable__label-arrow:hover:before {color: black;}#sk-container-id-11 div.sk-estimator:hover label.sk-toggleable__label-arrow:before {color: black;}#sk-container-id-11 div.sk-toggleable__content {max-height: 0;max-width: 0;overflow: hidden;text-align: left;background-color: #f0f8ff;}#sk-container-id-11 div.sk-toggleable__content pre {margin: 0.2em;color: black;border-radius: 0.25em;background-color: #f0f8ff;}#sk-container-id-11 input.sk-toggleable__control:checked~div.sk-toggleable__content {max-height: 200px;max-width: 100%;overflow: auto;}#sk-container-id-11 input.sk-toggleable__control:checked~label.sk-toggleable__label-arrow:before {content: \"▾\";}#sk-container-id-11 div.sk-estimator input.sk-toggleable__control:checked~label.sk-toggleable__label {background-color: #d4ebff;}#sk-container-id-11 div.sk-label input.sk-toggleable__control:checked~label.sk-toggleable__label {background-color: #d4ebff;}#sk-container-id-11 input.sk-hidden--visually {border: 0;clip: rect(1px 1px 1px 1px);clip: rect(1px, 1px, 1px, 1px);height: 1px;margin: -1px;overflow: hidden;padding: 0;position: absolute;width: 1px;}#sk-container-id-11 div.sk-estimator {font-family: monospace;background-color: #f0f8ff;border: 1px dotted black;border-radius: 0.25em;box-sizing: border-box;margin-bottom: 0.5em;}#sk-container-id-11 div.sk-estimator:hover {background-color: #d4ebff;}#sk-container-id-11 div.sk-parallel-item::after {content: \"\";width: 100%;border-bottom: 1px solid gray;flex-grow: 1;}#sk-container-id-11 div.sk-label:hover label.sk-toggleable__label {background-color: #d4ebff;}#sk-container-id-11 div.sk-serial::before {content: \"\";position: absolute;border-left: 1px solid gray;box-sizing: border-box;top: 0;bottom: 0;left: 50%;z-index: 0;}#sk-container-id-11 div.sk-serial {display: flex;flex-direction: column;align-items: center;background-color: white;padding-right: 0.2em;padding-left: 0.2em;position: relative;}#sk-container-id-11 div.sk-item {position: relative;z-index: 1;}#sk-container-id-11 div.sk-parallel {display: flex;align-items: stretch;justify-content: center;background-color: white;position: relative;}#sk-container-id-11 div.sk-item::before, #sk-container-id-11 div.sk-parallel-item::before {content: \"\";position: absolute;border-left: 1px solid gray;box-sizing: border-box;top: 0;bottom: 0;left: 50%;z-index: -1;}#sk-container-id-11 div.sk-parallel-item {display: flex;flex-direction: column;z-index: 1;position: relative;background-color: white;}#sk-container-id-11 div.sk-parallel-item:first-child::after {align-self: flex-end;width: 50%;}#sk-container-id-11 div.sk-parallel-item:last-child::after {align-self: flex-start;width: 50%;}#sk-container-id-11 div.sk-parallel-item:only-child::after {width: 0;}#sk-container-id-11 div.sk-dashed-wrapped {border: 1px dashed gray;margin: 0 0.4em 0.5em 0.4em;box-sizing: border-box;padding-bottom: 0.4em;background-color: white;}#sk-container-id-11 div.sk-label label {font-family: monospace;font-weight: bold;display: inline-block;line-height: 1.2em;}#sk-container-id-11 div.sk-label-container {text-align: center;}#sk-container-id-11 div.sk-container {/* jupyter's `normalize.less` sets `[hidden] { display: none; }` but bootstrap.min.css set `[hidden] { display: none !important; }` so we also need the `!important` here to be able to override the default hidden behavior on the sphinx rendered scikit-learn.org. See: https://github.com/scikit-learn/scikit-learn/issues/21755 */display: inline-block !important;position: relative;}#sk-container-id-11 div.sk-text-repr-fallback {display: none;}</style><div id=\"sk-container-id-11\" class=\"sk-top-container\"><div class=\"sk-text-repr-fallback\"><pre>SVC(kernel=&#x27;linear&#x27;, random_state=0)</pre><b>In a Jupyter environment, please rerun this cell to show the HTML representation or trust the notebook. <br />On GitHub, the HTML representation is unable to render, please try loading this page with nbviewer.org.</b></div><div class=\"sk-container\" hidden><div class=\"sk-item\"><div class=\"sk-estimator sk-toggleable\"><input class=\"sk-toggleable__control sk-hidden--visually\" id=\"sk-estimator-id-11\" type=\"checkbox\" checked><label for=\"sk-estimator-id-11\" class=\"sk-toggleable__label sk-toggleable__label-arrow\">SVC</label><div class=\"sk-toggleable__content\"><pre>SVC(kernel=&#x27;linear&#x27;, random_state=0)</pre></div></div></div></div></div>"
            ]
          },
          "metadata": {},
          "execution_count": 104
        }
      ]
    },
    {
      "cell_type": "code",
      "source": [
        "y_pred = classifier.predict(X_test)\n",
        "y_pred"
      ],
      "metadata": {
        "colab": {
          "base_uri": "https://localhost:8080/"
        },
        "id": "nQW4pmz8BCqn",
        "outputId": "7ada708a-9f7b-45d3-ed8e-9096b759990d"
      },
      "execution_count": null,
      "outputs": [
        {
          "output_type": "execute_result",
          "data": {
            "text/plain": [
              "array([19, 66, 46, ..., 57, 68, 78])"
            ]
          },
          "metadata": {},
          "execution_count": 106
        }
      ]
    },
    {
      "cell_type": "code",
      "source": [
        "from sklearn.preprocessing import LabelEncoder\n",
        "label_encoder = LabelEncoder()\n",
        "y_test_encoded = label_encoder.fit_transform(Y_test)\n",
        "\n",
        "# Convert y_pred to integers using LabelEncoder\n",
        "y_pred_encoded = label_encoder.transform(y_pred)"
      ],
      "metadata": {
        "id": "kEoyVOS4B4PS"
      },
      "execution_count": null,
      "outputs": []
    },
    {
      "cell_type": "code",
      "source": [
        "from sklearn.metrics import confusion_matrix\n",
        "cm= confusion_matrix(y_test_encoded, y_pred_encoded)\n",
        "print(\"Confusion Matrix\")\n",
        "print(cm)"
      ],
      "metadata": {
        "colab": {
          "base_uri": "https://localhost:8080/"
        },
        "id": "4kDiUl0wBq6Y",
        "outputId": "7d14793a-ec7a-48df-96a0-0c038d4da1dc"
      },
      "execution_count": null,
      "outputs": [
        {
          "output_type": "stream",
          "name": "stdout",
          "text": [
            "Confusion Matrix\n",
            "[[18  4  2 ...  0  0  0]\n",
            " [ 2 49 16 ...  0  0  0]\n",
            " [ 1  9 47 ...  0  0  0]\n",
            " ...\n",
            " [ 0  0  0 ...  0  0  0]\n",
            " [ 0  0  0 ...  0  0  0]\n",
            " [ 0  0  0 ...  0  0 25]]\n"
          ]
        }
      ]
    },
    {
      "cell_type": "code",
      "source": [
        "from sklearn.metrics import accuracy_score\n",
        "accuracy = accuracy_score(y_test_encoded, y_pred_encoded)\n",
        "accuracy = accuracy*100\n",
        "\n",
        "print(\"Accuracy:\", accuracy)"
      ],
      "metadata": {
        "id": "d0EbIUM4CSn6",
        "outputId": "324a334f-c149-4461-f58b-e75da9044b43",
        "colab": {
          "base_uri": "https://localhost:8080/"
        }
      },
      "execution_count": null,
      "outputs": [
        {
          "output_type": "stream",
          "name": "stdout",
          "text": [
            "Accuracy: 47.54530855700849\n"
          ]
        }
      ]
    }
  ]
}