{
  "nbformat": 4,
  "nbformat_minor": 0,
  "metadata": {
    "colab": {
      "provenance": [],
      "gpuType": "T4",
      "include_colab_link": true
    },
    "kernelspec": {
      "name": "python3",
      "display_name": "Python 3"
    },
    "language_info": {
      "name": "python"
    },
    "accelerator": "GPU"
  },
  "cells": [
    {
      "cell_type": "markdown",
      "metadata": {
        "id": "view-in-github",
        "colab_type": "text"
      },
      "source": [
        "<a href=\"https://colab.research.google.com/github/Sagar9719/Spam_Bytes_FitScore/blob/main/Spam_Bytes_FitScore.ipynb\" target=\"_parent\"><img src=\"https://colab.research.google.com/assets/colab-badge.svg\" alt=\"Open In Colab\"/></a>"
      ]
    },
    {
      "cell_type": "markdown",
      "source": [
        "#**Titan Hackathon** Code of team (**SpamBytes**)"
      ],
      "metadata": {
        "id": "gd-SoA-bxi3j"
      }
    },
    {
      "cell_type": "markdown",
      "source": [
        "###Code for *Data Cleaning*\n"
      ],
      "metadata": {
        "id": "mIu0htrxuhG_"
      }
    },
    {
      "cell_type": "code",
      "execution_count": null,
      "metadata": {
        "id": "vJcVQAXbG_Mz"
      },
      "outputs": [],
      "source": [
        "import pandas as pd"
      ]
    },
    {
      "cell_type": "code",
      "source": [
        "import numpy as np"
      ],
      "metadata": {
        "id": "piQhpuq8JITV"
      },
      "execution_count": null,
      "outputs": []
    },
    {
      "cell_type": "markdown",
      "source": [
        "####Upload Dataset from files"
      ],
      "metadata": {
        "id": "UwMa4r2kuvSz"
      }
    },
    {
      "cell_type": "code",
      "source": [
        "from google.colab import files\n",
        "uploaded = files.upload()"
      ],
      "metadata": {
        "colab": {
          "base_uri": "https://localhost:8080/",
          "height": 74
        },
        "id": "foCS0cNgNbw5",
        "outputId": "4622f144-248e-4293-8be9-b1f8f162c863"
      },
      "execution_count": null,
      "outputs": [
        {
          "output_type": "display_data",
          "data": {
            "text/plain": [
              "<IPython.core.display.HTML object>"
            ],
            "text/html": [
              "\n",
              "     <input type=\"file\" id=\"files-3c1fb9e2-a5d9-40df-a06c-827ab35e7b73\" name=\"files[]\" multiple disabled\n",
              "        style=\"border:none\" />\n",
              "     <output id=\"result-3c1fb9e2-a5d9-40df-a06c-827ab35e7b73\">\n",
              "      Upload widget is only available when the cell has been executed in the\n",
              "      current browser session. Please rerun this cell to enable.\n",
              "      </output>\n",
              "      <script>// Copyright 2017 Google LLC\n",
              "//\n",
              "// Licensed under the Apache License, Version 2.0 (the \"License\");\n",
              "// you may not use this file except in compliance with the License.\n",
              "// You may obtain a copy of the License at\n",
              "//\n",
              "//      http://www.apache.org/licenses/LICENSE-2.0\n",
              "//\n",
              "// Unless required by applicable law or agreed to in writing, software\n",
              "// distributed under the License is distributed on an \"AS IS\" BASIS,\n",
              "// WITHOUT WARRANTIES OR CONDITIONS OF ANY KIND, either express or implied.\n",
              "// See the License for the specific language governing permissions and\n",
              "// limitations under the License.\n",
              "\n",
              "/**\n",
              " * @fileoverview Helpers for google.colab Python module.\n",
              " */\n",
              "(function(scope) {\n",
              "function span(text, styleAttributes = {}) {\n",
              "  const element = document.createElement('span');\n",
              "  element.textContent = text;\n",
              "  for (const key of Object.keys(styleAttributes)) {\n",
              "    element.style[key] = styleAttributes[key];\n",
              "  }\n",
              "  return element;\n",
              "}\n",
              "\n",
              "// Max number of bytes which will be uploaded at a time.\n",
              "const MAX_PAYLOAD_SIZE = 100 * 1024;\n",
              "\n",
              "function _uploadFiles(inputId, outputId) {\n",
              "  const steps = uploadFilesStep(inputId, outputId);\n",
              "  const outputElement = document.getElementById(outputId);\n",
              "  // Cache steps on the outputElement to make it available for the next call\n",
              "  // to uploadFilesContinue from Python.\n",
              "  outputElement.steps = steps;\n",
              "\n",
              "  return _uploadFilesContinue(outputId);\n",
              "}\n",
              "\n",
              "// This is roughly an async generator (not supported in the browser yet),\n",
              "// where there are multiple asynchronous steps and the Python side is going\n",
              "// to poll for completion of each step.\n",
              "// This uses a Promise to block the python side on completion of each step,\n",
              "// then passes the result of the previous step as the input to the next step.\n",
              "function _uploadFilesContinue(outputId) {\n",
              "  const outputElement = document.getElementById(outputId);\n",
              "  const steps = outputElement.steps;\n",
              "\n",
              "  const next = steps.next(outputElement.lastPromiseValue);\n",
              "  return Promise.resolve(next.value.promise).then((value) => {\n",
              "    // Cache the last promise value to make it available to the next\n",
              "    // step of the generator.\n",
              "    outputElement.lastPromiseValue = value;\n",
              "    return next.value.response;\n",
              "  });\n",
              "}\n",
              "\n",
              "/**\n",
              " * Generator function which is called between each async step of the upload\n",
              " * process.\n",
              " * @param {string} inputId Element ID of the input file picker element.\n",
              " * @param {string} outputId Element ID of the output display.\n",
              " * @return {!Iterable<!Object>} Iterable of next steps.\n",
              " */\n",
              "function* uploadFilesStep(inputId, outputId) {\n",
              "  const inputElement = document.getElementById(inputId);\n",
              "  inputElement.disabled = false;\n",
              "\n",
              "  const outputElement = document.getElementById(outputId);\n",
              "  outputElement.innerHTML = '';\n",
              "\n",
              "  const pickedPromise = new Promise((resolve) => {\n",
              "    inputElement.addEventListener('change', (e) => {\n",
              "      resolve(e.target.files);\n",
              "    });\n",
              "  });\n",
              "\n",
              "  const cancel = document.createElement('button');\n",
              "  inputElement.parentElement.appendChild(cancel);\n",
              "  cancel.textContent = 'Cancel upload';\n",
              "  const cancelPromise = new Promise((resolve) => {\n",
              "    cancel.onclick = () => {\n",
              "      resolve(null);\n",
              "    };\n",
              "  });\n",
              "\n",
              "  // Wait for the user to pick the files.\n",
              "  const files = yield {\n",
              "    promise: Promise.race([pickedPromise, cancelPromise]),\n",
              "    response: {\n",
              "      action: 'starting',\n",
              "    }\n",
              "  };\n",
              "\n",
              "  cancel.remove();\n",
              "\n",
              "  // Disable the input element since further picks are not allowed.\n",
              "  inputElement.disabled = true;\n",
              "\n",
              "  if (!files) {\n",
              "    return {\n",
              "      response: {\n",
              "        action: 'complete',\n",
              "      }\n",
              "    };\n",
              "  }\n",
              "\n",
              "  for (const file of files) {\n",
              "    const li = document.createElement('li');\n",
              "    li.append(span(file.name, {fontWeight: 'bold'}));\n",
              "    li.append(span(\n",
              "        `(${file.type || 'n/a'}) - ${file.size} bytes, ` +\n",
              "        `last modified: ${\n",
              "            file.lastModifiedDate ? file.lastModifiedDate.toLocaleDateString() :\n",
              "                                    'n/a'} - `));\n",
              "    const percent = span('0% done');\n",
              "    li.appendChild(percent);\n",
              "\n",
              "    outputElement.appendChild(li);\n",
              "\n",
              "    const fileDataPromise = new Promise((resolve) => {\n",
              "      const reader = new FileReader();\n",
              "      reader.onload = (e) => {\n",
              "        resolve(e.target.result);\n",
              "      };\n",
              "      reader.readAsArrayBuffer(file);\n",
              "    });\n",
              "    // Wait for the data to be ready.\n",
              "    let fileData = yield {\n",
              "      promise: fileDataPromise,\n",
              "      response: {\n",
              "        action: 'continue',\n",
              "      }\n",
              "    };\n",
              "\n",
              "    // Use a chunked sending to avoid message size limits. See b/62115660.\n",
              "    let position = 0;\n",
              "    do {\n",
              "      const length = Math.min(fileData.byteLength - position, MAX_PAYLOAD_SIZE);\n",
              "      const chunk = new Uint8Array(fileData, position, length);\n",
              "      position += length;\n",
              "\n",
              "      const base64 = btoa(String.fromCharCode.apply(null, chunk));\n",
              "      yield {\n",
              "        response: {\n",
              "          action: 'append',\n",
              "          file: file.name,\n",
              "          data: base64,\n",
              "        },\n",
              "      };\n",
              "\n",
              "      let percentDone = fileData.byteLength === 0 ?\n",
              "          100 :\n",
              "          Math.round((position / fileData.byteLength) * 100);\n",
              "      percent.textContent = `${percentDone}% done`;\n",
              "\n",
              "    } while (position < fileData.byteLength);\n",
              "  }\n",
              "\n",
              "  // All done.\n",
              "  yield {\n",
              "    response: {\n",
              "      action: 'complete',\n",
              "    }\n",
              "  };\n",
              "}\n",
              "\n",
              "scope.google = scope.google || {};\n",
              "scope.google.colab = scope.google.colab || {};\n",
              "scope.google.colab._files = {\n",
              "  _uploadFiles,\n",
              "  _uploadFilesContinue,\n",
              "};\n",
              "})(self);\n",
              "</script> "
            ]
          },
          "metadata": {}
        },
        {
          "output_type": "stream",
          "name": "stdout",
          "text": [
            "Saving person2.csv to person2.csv\n"
          ]
        }
      ]
    },
    {
      "cell_type": "markdown",
      "source": [
        "### Dataset display"
      ],
      "metadata": {
        "id": "BruGWpMcu6Tg"
      }
    },
    {
      "cell_type": "code",
      "source": [
        "data = pd.read_csv(\"person2.csv\")\n",
        "data.head(5)"
      ],
      "metadata": {
        "id": "Uu3-ZI4fHVOl",
        "colab": {
          "base_uri": "https://localhost:8080/",
          "height": 270
        },
        "outputId": "1d705950-a7dc-4387-a356-bd1cb46a6b7e"
      },
      "execution_count": null,
      "outputs": [
        {
          "output_type": "execute_result",
          "data": {
            "text/plain": [
              "   Weight  Height  Systole  Diastole  HeartRate  BodyTemperature  BloodSugar  \\\n",
              "0    70.2    1.75      120        80         75             36.5          90   \n",
              "1    70.0    1.75      118        78         78             36.6          95   \n",
              "2    69.8    1.75      115        75         80             36.7         100   \n",
              "3    69.5    1.75      167       136         96             36.8         122   \n",
              "4    69.3    1.75      116        78         74             36.9          91   \n",
              "\n",
              "   SpO2  RespiratoryRate   BMI  Deviation  FitScore  \n",
              "0    98               16  22.9        NaN       NaN  \n",
              "1    99               18  22.9        NaN       NaN  \n",
              "2    97               17  22.8        NaN       NaN  \n",
              "3    98               17  22.7        NaN       NaN  \n",
              "4    97               18  22.6        NaN       NaN  "
            ],
            "text/html": [
              "\n",
              "\n",
              "  <div id=\"df-2bc114e0-182d-46d1-959a-67fc53234b9a\">\n",
              "    <div class=\"colab-df-container\">\n",
              "      <div>\n",
              "<style scoped>\n",
              "    .dataframe tbody tr th:only-of-type {\n",
              "        vertical-align: middle;\n",
              "    }\n",
              "\n",
              "    .dataframe tbody tr th {\n",
              "        vertical-align: top;\n",
              "    }\n",
              "\n",
              "    .dataframe thead th {\n",
              "        text-align: right;\n",
              "    }\n",
              "</style>\n",
              "<table border=\"1\" class=\"dataframe\">\n",
              "  <thead>\n",
              "    <tr style=\"text-align: right;\">\n",
              "      <th></th>\n",
              "      <th>Weight</th>\n",
              "      <th>Height</th>\n",
              "      <th>Systole</th>\n",
              "      <th>Diastole</th>\n",
              "      <th>HeartRate</th>\n",
              "      <th>BodyTemperature</th>\n",
              "      <th>BloodSugar</th>\n",
              "      <th>SpO2</th>\n",
              "      <th>RespiratoryRate</th>\n",
              "      <th>BMI</th>\n",
              "      <th>Deviation</th>\n",
              "      <th>FitScore</th>\n",
              "    </tr>\n",
              "  </thead>\n",
              "  <tbody>\n",
              "    <tr>\n",
              "      <th>0</th>\n",
              "      <td>70.2</td>\n",
              "      <td>1.75</td>\n",
              "      <td>120</td>\n",
              "      <td>80</td>\n",
              "      <td>75</td>\n",
              "      <td>36.5</td>\n",
              "      <td>90</td>\n",
              "      <td>98</td>\n",
              "      <td>16</td>\n",
              "      <td>22.9</td>\n",
              "      <td>NaN</td>\n",
              "      <td>NaN</td>\n",
              "    </tr>\n",
              "    <tr>\n",
              "      <th>1</th>\n",
              "      <td>70.0</td>\n",
              "      <td>1.75</td>\n",
              "      <td>118</td>\n",
              "      <td>78</td>\n",
              "      <td>78</td>\n",
              "      <td>36.6</td>\n",
              "      <td>95</td>\n",
              "      <td>99</td>\n",
              "      <td>18</td>\n",
              "      <td>22.9</td>\n",
              "      <td>NaN</td>\n",
              "      <td>NaN</td>\n",
              "    </tr>\n",
              "    <tr>\n",
              "      <th>2</th>\n",
              "      <td>69.8</td>\n",
              "      <td>1.75</td>\n",
              "      <td>115</td>\n",
              "      <td>75</td>\n",
              "      <td>80</td>\n",
              "      <td>36.7</td>\n",
              "      <td>100</td>\n",
              "      <td>97</td>\n",
              "      <td>17</td>\n",
              "      <td>22.8</td>\n",
              "      <td>NaN</td>\n",
              "      <td>NaN</td>\n",
              "    </tr>\n",
              "    <tr>\n",
              "      <th>3</th>\n",
              "      <td>69.5</td>\n",
              "      <td>1.75</td>\n",
              "      <td>167</td>\n",
              "      <td>136</td>\n",
              "      <td>96</td>\n",
              "      <td>36.8</td>\n",
              "      <td>122</td>\n",
              "      <td>98</td>\n",
              "      <td>17</td>\n",
              "      <td>22.7</td>\n",
              "      <td>NaN</td>\n",
              "      <td>NaN</td>\n",
              "    </tr>\n",
              "    <tr>\n",
              "      <th>4</th>\n",
              "      <td>69.3</td>\n",
              "      <td>1.75</td>\n",
              "      <td>116</td>\n",
              "      <td>78</td>\n",
              "      <td>74</td>\n",
              "      <td>36.9</td>\n",
              "      <td>91</td>\n",
              "      <td>97</td>\n",
              "      <td>18</td>\n",
              "      <td>22.6</td>\n",
              "      <td>NaN</td>\n",
              "      <td>NaN</td>\n",
              "    </tr>\n",
              "  </tbody>\n",
              "</table>\n",
              "</div>\n",
              "      <button class=\"colab-df-convert\" onclick=\"convertToInteractive('df-2bc114e0-182d-46d1-959a-67fc53234b9a')\"\n",
              "              title=\"Convert this dataframe to an interactive table.\"\n",
              "              style=\"display:none;\">\n",
              "\n",
              "  <svg xmlns=\"http://www.w3.org/2000/svg\" height=\"24px\"viewBox=\"0 0 24 24\"\n",
              "       width=\"24px\">\n",
              "    <path d=\"M0 0h24v24H0V0z\" fill=\"none\"/>\n",
              "    <path d=\"M18.56 5.44l.94 2.06.94-2.06 2.06-.94-2.06-.94-.94-2.06-.94 2.06-2.06.94zm-11 1L8.5 8.5l.94-2.06 2.06-.94-2.06-.94L8.5 2.5l-.94 2.06-2.06.94zm10 10l.94 2.06.94-2.06 2.06-.94-2.06-.94-.94-2.06-.94 2.06-2.06.94z\"/><path d=\"M17.41 7.96l-1.37-1.37c-.4-.4-.92-.59-1.43-.59-.52 0-1.04.2-1.43.59L10.3 9.45l-7.72 7.72c-.78.78-.78 2.05 0 2.83L4 21.41c.39.39.9.59 1.41.59.51 0 1.02-.2 1.41-.59l7.78-7.78 2.81-2.81c.8-.78.8-2.07 0-2.86zM5.41 20L4 18.59l7.72-7.72 1.47 1.35L5.41 20z\"/>\n",
              "  </svg>\n",
              "      </button>\n",
              "\n",
              "\n",
              "\n",
              "    <div id=\"df-922d2884-6f93-46ec-99a1-d088ad5fdbf0\">\n",
              "      <button class=\"colab-df-quickchart\" onclick=\"quickchart('df-922d2884-6f93-46ec-99a1-d088ad5fdbf0')\"\n",
              "              title=\"Suggest charts.\"\n",
              "              style=\"display:none;\">\n",
              "\n",
              "<svg xmlns=\"http://www.w3.org/2000/svg\" height=\"24px\"viewBox=\"0 0 24 24\"\n",
              "     width=\"24px\">\n",
              "    <g>\n",
              "        <path d=\"M19 3H5c-1.1 0-2 .9-2 2v14c0 1.1.9 2 2 2h14c1.1 0 2-.9 2-2V5c0-1.1-.9-2-2-2zM9 17H7v-7h2v7zm4 0h-2V7h2v10zm4 0h-2v-4h2v4z\"/>\n",
              "    </g>\n",
              "</svg>\n",
              "      </button>\n",
              "    </div>\n",
              "\n",
              "<style>\n",
              "  .colab-df-quickchart {\n",
              "    background-color: #E8F0FE;\n",
              "    border: none;\n",
              "    border-radius: 50%;\n",
              "    cursor: pointer;\n",
              "    display: none;\n",
              "    fill: #1967D2;\n",
              "    height: 32px;\n",
              "    padding: 0 0 0 0;\n",
              "    width: 32px;\n",
              "  }\n",
              "\n",
              "  .colab-df-quickchart:hover {\n",
              "    background-color: #E2EBFA;\n",
              "    box-shadow: 0px 1px 2px rgba(60, 64, 67, 0.3), 0px 1px 3px 1px rgba(60, 64, 67, 0.15);\n",
              "    fill: #174EA6;\n",
              "  }\n",
              "\n",
              "  [theme=dark] .colab-df-quickchart {\n",
              "    background-color: #3B4455;\n",
              "    fill: #D2E3FC;\n",
              "  }\n",
              "\n",
              "  [theme=dark] .colab-df-quickchart:hover {\n",
              "    background-color: #434B5C;\n",
              "    box-shadow: 0px 1px 3px 1px rgba(0, 0, 0, 0.15);\n",
              "    filter: drop-shadow(0px 1px 2px rgba(0, 0, 0, 0.3));\n",
              "    fill: #FFFFFF;\n",
              "  }\n",
              "</style>\n",
              "\n",
              "    <script>\n",
              "      async function quickchart(key) {\n",
              "        const containerElement = document.querySelector('#' + key);\n",
              "        const charts = await google.colab.kernel.invokeFunction(\n",
              "            'suggestCharts', [key], {});\n",
              "      }\n",
              "    </script>\n",
              "\n",
              "      <script>\n",
              "\n",
              "function displayQuickchartButton(domScope) {\n",
              "  let quickchartButtonEl =\n",
              "    domScope.querySelector('#df-922d2884-6f93-46ec-99a1-d088ad5fdbf0 button.colab-df-quickchart');\n",
              "  quickchartButtonEl.style.display =\n",
              "    google.colab.kernel.accessAllowed ? 'block' : 'none';\n",
              "}\n",
              "\n",
              "        displayQuickchartButton(document);\n",
              "      </script>\n",
              "      <style>\n",
              "    .colab-df-container {\n",
              "      display:flex;\n",
              "      flex-wrap:wrap;\n",
              "      gap: 12px;\n",
              "    }\n",
              "\n",
              "    .colab-df-convert {\n",
              "      background-color: #E8F0FE;\n",
              "      border: none;\n",
              "      border-radius: 50%;\n",
              "      cursor: pointer;\n",
              "      display: none;\n",
              "      fill: #1967D2;\n",
              "      height: 32px;\n",
              "      padding: 0 0 0 0;\n",
              "      width: 32px;\n",
              "    }\n",
              "\n",
              "    .colab-df-convert:hover {\n",
              "      background-color: #E2EBFA;\n",
              "      box-shadow: 0px 1px 2px rgba(60, 64, 67, 0.3), 0px 1px 3px 1px rgba(60, 64, 67, 0.15);\n",
              "      fill: #174EA6;\n",
              "    }\n",
              "\n",
              "    [theme=dark] .colab-df-convert {\n",
              "      background-color: #3B4455;\n",
              "      fill: #D2E3FC;\n",
              "    }\n",
              "\n",
              "    [theme=dark] .colab-df-convert:hover {\n",
              "      background-color: #434B5C;\n",
              "      box-shadow: 0px 1px 3px 1px rgba(0, 0, 0, 0.15);\n",
              "      filter: drop-shadow(0px 1px 2px rgba(0, 0, 0, 0.3));\n",
              "      fill: #FFFFFF;\n",
              "    }\n",
              "  </style>\n",
              "\n",
              "      <script>\n",
              "        const buttonEl =\n",
              "          document.querySelector('#df-2bc114e0-182d-46d1-959a-67fc53234b9a button.colab-df-convert');\n",
              "        buttonEl.style.display =\n",
              "          google.colab.kernel.accessAllowed ? 'block' : 'none';\n",
              "\n",
              "        async function convertToInteractive(key) {\n",
              "          const element = document.querySelector('#df-2bc114e0-182d-46d1-959a-67fc53234b9a');\n",
              "          const dataTable =\n",
              "            await google.colab.kernel.invokeFunction('convertToInteractive',\n",
              "                                                     [key], {});\n",
              "          if (!dataTable) return;\n",
              "\n",
              "          const docLinkHtml = 'Like what you see? Visit the ' +\n",
              "            '<a target=\"_blank\" href=https://colab.research.google.com/notebooks/data_table.ipynb>data table notebook</a>'\n",
              "            + ' to learn more about interactive tables.';\n",
              "          element.innerHTML = '';\n",
              "          dataTable['output_type'] = 'display_data';\n",
              "          await google.colab.output.renderOutput(dataTable, element);\n",
              "          const docLink = document.createElement('div');\n",
              "          docLink.innerHTML = docLinkHtml;\n",
              "          element.appendChild(docLink);\n",
              "        }\n",
              "      </script>\n",
              "    </div>\n",
              "  </div>\n"
            ]
          },
          "metadata": {},
          "execution_count": 4
        }
      ]
    },
    {
      "cell_type": "code",
      "source": [
        "df = data.copy()"
      ],
      "metadata": {
        "id": "4r0g7HPSbHE9"
      },
      "execution_count": null,
      "outputs": []
    },
    {
      "cell_type": "markdown",
      "source": [
        "##Name File using DataFrame of Pandas Library"
      ],
      "metadata": {
        "id": "Gb_o-p-vvLnP"
      }
    },
    {
      "cell_type": "code",
      "source": [
        "#Create list of all coloumn Value to calculate on them\n",
        "Weight = df['Weight'].values\n",
        "Height = df['Height'].values\n",
        "Systole = df['Systole'].values\n",
        "Diastole = df['Diastole'].values\n",
        "HeartRate = df['HeartRate'].values\n",
        "BodyTemperature = df['BodyTemperature'].values\n",
        "BloodSugar = df['BloodSugar'].values\n",
        "SpO2 = df['SpO2'].values\n",
        "RespiratoryRate = df['RespiratoryRate'].values\n",
        "\n",
        "\n",
        "#these are the three values to be calculated\n",
        "BMI=df['BMI'].values\n",
        "Deviation=df['Deviation'].values\n",
        "FitScore=df['FitScore'].values\n",
        "\n"
      ],
      "metadata": {
        "id": "-0kSHowoUp2S"
      },
      "execution_count": null,
      "outputs": []
    },
    {
      "cell_type": "code",
      "source": [
        "print(Weight.dtype)"
      ],
      "metadata": {
        "colab": {
          "base_uri": "https://localhost:8080/"
        },
        "id": "4_4hqyDpI_8q",
        "outputId": "14a9f1ca-bd0e-4537-83b4-2531e613fac5"
      },
      "execution_count": null,
      "outputs": [
        {
          "output_type": "stream",
          "name": "stdout",
          "text": [
            "float64\n"
          ]
        }
      ]
    },
    {
      "cell_type": "markdown",
      "source": [
        "### Body Mass Index is calculated and stored in respective list using formula (Weight/Height^2) in kg/m^2"
      ],
      "metadata": {
        "id": "-P4fmd1_vuXr"
      }
    },
    {
      "cell_type": "code",
      "source": [
        "#assigning BMI\n",
        "j=0\n",
        "for i in range(5):\n",
        "  #print(\"Weight=\"+str(Weight[j]))\n",
        "  #print(\"Height=\"+str(Height[j]))\n",
        "  BMI[j]= (Weight[j])/((Height[j])*(Height[j]))\n",
        "  #print(BMI[j])\n",
        "  j+=1\n",
        "\n"
      ],
      "metadata": {
        "id": "hmS9iyyGav7G"
      },
      "execution_count": null,
      "outputs": []
    },
    {
      "cell_type": "code",
      "source": [
        "print(BMI)"
      ],
      "metadata": {
        "colab": {
          "base_uri": "https://localhost:8080/"
        },
        "id": "jhdodaekcZ1y",
        "outputId": "fe3b55a5-dbd5-40ba-8658-463ef2704637"
      },
      "execution_count": null,
      "outputs": [
        {
          "output_type": "stream",
          "name": "stdout",
          "text": [
            "[22.92244898 22.85714286 22.79183673 22.69387755 22.62857143 22.5\n",
            " 22.6        22.6        22.4        22.4        22.3        22.2\n",
            " 22.3        22.2        22.3        22.2        22.1        22.\n",
            " 22.         21.9        21.9        21.8        21.8        21.8\n",
            " 21.9        21.8        21.7        21.8        21.8        21.7       ]\n"
          ]
        }
      ]
    },
    {
      "cell_type": "markdown",
      "source": [
        "##Important values used in calculation"
      ],
      "metadata": {
        "id": "aQLeXPsawUgU"
      }
    },
    {
      "cell_type": "code",
      "source": [
        "#normal list contains Initially normal values of all the attributes\n",
        "#these normal values are safe values\n",
        "# i.e. if user is in these values, then absolutely fit\n",
        "#list=[Systole, Diastole, BloodSugar, BMI, SpO2, HeartRate, RespiratoryRate, BodyTemperature]\n",
        "normal = [120, 80, 95, 21.7, 96, 80, 16, 36.6]\n",
        "limits = [15, 15, 15, 3.2, 4, 20, 4, 0.6]\n",
        "critical_min = [50, 30, 70, 13, 19.5, 35, 8, 24]\n",
        "critical_max = [145, 100, 200, 32, 101, 130, 40, 40]\n",
        "weights = [0.12, 0.12, 0.2, 0.06, 0.16, 0.14, 0.14, 0.06]\n",
        "question= [\n",
        "            [\n",
        "              \"Have you experienced frequent headaches, especially in the morning or on the back of your head?\",\n",
        "              \"Do you feel fatigued or have a lack of energy despite getting enough rest?\",\n",
        "              \"Have you noticed changes in your vision, such as blurred vision or seeing spots?\",\n",
        "              \"Have you felt lightheaded or dizzy?\",\n",
        "              \"Are you experiencing any changes in your urinary frequency or patterns?\"\n",
        "            ],\n",
        "            [\n",
        "              \"Do you have frequent headaches, particularly in the morning?\",\n",
        "              \"Have you felt nauseous or experienced blurred vision?\",\n",
        "              \"Are you experiencing cold or clammy skin?\",\n",
        "              \"Are you having difficulty concentrating or feeling confused?\",\n",
        "              \"Have you noticed any changes in your balance or coordination?\"\n",
        "            ],\n",
        "            [\n",
        "              \"Have you noticed an increase in thirst or are you drinking more fluids than usual?\",\n",
        "              \"Are you experiencing frequent urination or have you noticed an increase in the volume of urine?\",\n",
        "              \"Have you been feeling fatigued or more tired than usual?\",\n",
        "              \"Are you experiencing unexplained weight loss despite a regular diet?\",\n",
        "              \"Are you experiencing blurry vision or difficulty focusing?\"\n",
        "            ],\n",
        "            [\n",
        "                \"Q1\",\n",
        "                \"Q2\",\n",
        "                \"Q3\",\n",
        "                \"Q4\",\n",
        "                \"Q5\"\n",
        "            ],\n",
        "            [\n",
        "                \"Do you feel excessively tired or fatigued even with minimal exertion?\",\n",
        "                \"Have you noticed any bluish discoloration of your lips, fingertips, or nail beds?\",\n",
        "                \"Do you feel dizzy, lightheaded, or experience episodes of fainting?\",\n",
        "                \"Do you have a persistent cough, wheezing, or chest discomfort?\",\n",
        "                \"Are you sleeping well, or have you noticed any disturbances in your sleep pattern?\"\n",
        "            ],\n",
        "            [\n",
        "                \"Q1\",\n",
        "                \"Q2\",\n",
        "                \"Q3\",\n",
        "                \"Q4\",\n",
        "                \"Q5\"\n",
        "            ],\n",
        "            [\n",
        "                \"Q1\",\n",
        "                \"Q2\",\n",
        "                \"Q3\",\n",
        "                \"Q4\",\n",
        "                \"Q5\"\n",
        "            ],\n",
        "            [\n",
        "                \"Q1\",\n",
        "                \"Q2\",\n",
        "                \"Q3\",\n",
        "                \"Q4\",\n",
        "                \"Q5\"\n",
        "            ]]\n",
        "ans=[0,0,0,0,0,0,0,0]"
      ],
      "metadata": {
        "id": "v6qhMVxWJmUi"
      },
      "execution_count": null,
      "outputs": []
    },
    {
      "cell_type": "markdown",
      "source": [
        "#Calculation of error and then Finally calculating FitnessScore"
      ],
      "metadata": {
        "id": "hUK5W5VBwgk6"
      }
    },
    {
      "cell_type": "markdown",
      "source": [
        "####Error : (Ideal Value - Current Value)*(Slope)"
      ],
      "metadata": {
        "id": "IgtZNgcYwwpz"
      }
    },
    {
      "cell_type": "markdown",
      "source": [
        "#### Deviation: Weighted sum of all errors"
      ],
      "metadata": {
        "id": "siBOtggHw7RB"
      }
    },
    {
      "cell_type": "markdown",
      "source": [
        "####Fit Score : 1 - Total Deviation"
      ],
      "metadata": {
        "id": "us1tNaQ1xIPz"
      }
    },
    {
      "cell_type": "code",
      "source": [
        "def sol(k):\n",
        "  ans=0\n",
        "  solu=0\n",
        "  i=0\n",
        "  for i in range(5):\n",
        "    print(question[k][i])\n",
        "    ans=int(input())\n",
        "    solu=solu+ans\n",
        "  return solu\n",
        "\n",
        "\n",
        "#function for calculating error\n",
        "def delta(k, current_value, l):\n",
        "  error=0\n",
        "  change=0\n",
        "  solution=0\n",
        "  if normal[k]-limits[k] <= current_value <= normal[k]+limits[k] :\n",
        "    error=0\n",
        "  elif critical_min[k] <= current_value <= normal[k]-limits[k]:\n",
        "    solution=sol(k)\n",
        "    if(solution<3):\n",
        "      change = (normal[k] - current_value)/l\n",
        "      normal[k]=normal[k]-change\n",
        "      critical_min[k]=critical_min[k]-change\n",
        "      critical_max[k]=critical_max[k]-change\n",
        "\n",
        "    error = (1/(normal[k]-limits[k] - critical_min[k]))*(normal[k]-limits[k]-current_value)\n",
        "  elif normal[k]+limits[k] <= current_value <= critical_max[k]:\n",
        "    solution=sol(k)\n",
        "    if(solution<3):\n",
        "      change = (current_value - normal[k])/l\n",
        "      normal[k]=normal[k]+change\n",
        "      critical_min[k]=critical_min[k]+change\n",
        "      critical_max[k]=critical_max[k]+change\n",
        "    error = (1/(critical_max[k] - normal[k]+limits[k]))*(critical_max[k] - normal[k]+limits[k])\n",
        "  else:\n",
        "    error = 1\n",
        "\n",
        "  return error\n",
        "\n",
        "#assigning BMI\n",
        "j=0\n",
        "#list=[Systole, Diastole, BloodSugar, BMI, SpO2, HeartRate, RespiratoryRate, BodyTemperature]\n",
        "for i in Height:\n",
        "  delta_Systole = delta(0, int(Systole[j]), j+1)\n",
        "  delta_Diastole = delta(1, int(Diastole[j]), j+1)\n",
        "  delta_BloodSugar = delta(2, int(BloodSugar[j]), j+1)\n",
        "  delta_BMI = delta(3, int(BMI[j]), j+1)\n",
        "  delta_SpO2 = delta(4, int(SpO2[j]), j+1)\n",
        "  delta_HeartRate = delta(5, int(HeartRate[j]), j+1)\n",
        "  delta_RespiratoryRate = delta(6, int(HeartRate[j]), j+1)\n",
        "  delta_BodyTemperature = delta(7, int(BodyTemperature[j]), j+1)\n",
        "\n",
        "  Deviation[j] = (weights[0]*delta_Systole)+(weights[1]*delta_Diastole)+(weights[2]*delta_BloodSugar)+(weights[3]*delta_BMI)+(weights[4]*delta_SpO2)+(weights[5]*delta_HeartRate)+(weights[6]*delta_RespiratoryRate)+(weights[7]*delta_BodyTemperature)\n",
        "\n",
        "  if(Deviation[j]>1):\n",
        "    Deviation[j]=Deviation[j]-1\n",
        "  FitScore[j] = int((1 - Deviation[j])*100)\n",
        "\n",
        "\n",
        "  j+=1\n",
        "\n"
      ],
      "metadata": {
        "id": "l-ggyigWd1u4",
        "colab": {
          "base_uri": "https://localhost:8080/"
        },
        "outputId": "64896c8f-7b7a-4bdc-898d-9abe82c898ae"
      },
      "execution_count": null,
      "outputs": [
        {
          "name": "stdout",
          "output_type": "stream",
          "text": [
            "Have you noticed an increase in thirst or are you drinking more fluids than usual?\n",
            "0\n",
            "Are you experiencing frequent urination or have you noticed an increase in the volume of urine?\n",
            "0\n",
            "Have you been feeling fatigued or more tired than usual?\n",
            "0\n",
            "Are you experiencing unexplained weight loss despite a regular diet?\n",
            "0\n",
            "Are you experiencing blurry vision or difficulty focusing?\n",
            "0\n",
            "Have you noticed an increase in thirst or are you drinking more fluids than usual?\n",
            "0\n",
            "Are you experiencing frequent urination or have you noticed an increase in the volume of urine?\n",
            "0\n",
            "Have you been feeling fatigued or more tired than usual?\n",
            "0\n",
            "Are you experiencing unexplained weight loss despite a regular diet?\n",
            "0\n",
            "Are you experiencing blurry vision or difficulty focusing?\n",
            "0\n",
            "Q1\n",
            "0\n",
            "Q2\n",
            "0\n",
            "Q3\n",
            "0\n",
            "Q4\n",
            "0\n",
            "Q5\n",
            "0\n",
            "Have you noticed an increase in thirst or are you drinking more fluids than usual?\n",
            "0\n",
            "Are you experiencing frequent urination or have you noticed an increase in the volume of urine?\n",
            "0\n",
            "Have you been feeling fatigued or more tired than usual?\n",
            "0\n",
            "Are you experiencing unexplained weight loss despite a regular diet?\n",
            "0\n",
            "Are you experiencing blurry vision or difficulty focusing?\n",
            "0\n",
            "Have you noticed an increase in thirst or are you drinking more fluids than usual?\n",
            "0\n",
            "Are you experiencing frequent urination or have you noticed an increase in the volume of urine?\n",
            "0\n",
            "Have you been feeling fatigued or more tired than usual?\n",
            "0\n",
            "Are you experiencing unexplained weight loss despite a regular diet?\n",
            "0\n",
            "Are you experiencing blurry vision or difficulty focusing?\n",
            "0\n",
            "Have you noticed an increase in thirst or are you drinking more fluids than usual?\n",
            "0\n",
            "Are you experiencing frequent urination or have you noticed an increase in the volume of urine?\n",
            "0\n",
            "Have you been feeling fatigued or more tired than usual?\n",
            "0\n",
            "Are you experiencing unexplained weight loss despite a regular diet?\n",
            "0\n",
            "Are you experiencing blurry vision or difficulty focusing?\n",
            "1\n"
          ]
        }
      ]
    },
    {
      "cell_type": "code",
      "source": [
        "print(FitScore)"
      ],
      "metadata": {
        "colab": {
          "base_uri": "https://localhost:8080/"
        },
        "id": "G1HJL_qgm3XK",
        "outputId": "aea8f752-b296-4a9b-8003-7b0bd44312c5"
      },
      "execution_count": null,
      "outputs": [
        {
          "output_type": "stream",
          "name": "stdout",
          "text": [
            "[86. 86. 86. 41. 86. 86. 86. 86. 86. 86. 86. 86. 86. 62. 86. 86. 86. 72.\n",
            " 86. 86. 85. 86. 86. 86. 86. 86. 86. 86. 86. 83.]\n"
          ]
        }
      ]
    },
    {
      "cell_type": "markdown",
      "source": [
        "# Writing in the Dataset\n"
      ],
      "metadata": {
        "id": "_8OEUYHAn7rG"
      }
    },
    {
      "cell_type": "code",
      "source": [
        "filename = open(\"person2.csv\",'w')\n",
        "\n",
        "j=0\n",
        "for i in Height:\n",
        "  Rlist1 = str(Weight[j]) + \",\" + str(Height[j]) + ',' + str(Systole[j]) + ',' + str(Diastole[j]) + ',' + str(HeartRate[j]) + ',' + str(BodyTemperature[j]) +','+str(BloodSugar[j])+ ',' + str(SpO2[j]) + ',' + str(RespiratoryRate[j]) + ',' + str(BMI[j]) + ',' + str(Deviation[j]) + ',' + str(FitScore[j])\n",
        "  filename.write(Rlist1)\n",
        "  filename.write(\"\\n\")\n",
        "  filename.flush()\n",
        "\n",
        "  j+=1\n",
        "filename.close()"
      ],
      "metadata": {
        "id": "wnKr5MwooKpa"
      },
      "execution_count": null,
      "outputs": []
    },
    {
      "cell_type": "code",
      "source": [
        "normal"
      ],
      "metadata": {
        "colab": {
          "base_uri": "https://localhost:8080/"
        },
        "id": "alEpGQ4ec_6H",
        "outputId": "e57b82f6-3319-4acc-d9c8-d3cd987c3bd2"
      },
      "execution_count": null,
      "outputs": [
        {
          "output_type": "execute_result",
          "data": {
            "text/plain": [
              "[120, 80, 98.05679012345679, 21.7, 96, 81.66666666666667, 16, 36.6]"
            ]
          },
          "metadata": {},
          "execution_count": 14
        }
      ]
    }
  ]
}